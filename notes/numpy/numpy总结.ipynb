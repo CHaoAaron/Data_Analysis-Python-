{
 "cells": [
  {
   "cell_type": "code",
   "execution_count": 1,
   "id": "bd38838a",
   "metadata": {},
   "outputs": [],
   "source": [
    "import numpy as np"
   ]
  },
  {
   "cell_type": "code",
   "execution_count": 2,
   "id": "eccde4bb",
   "metadata": {},
   "outputs": [
    {
     "name": "stdout",
     "output_type": "stream",
     "text": [
      "[[1, 2, 3], [4, 5, 6], [7, 8, 9]]\n",
      "&&&&&&&&\n",
      "[[1, 2, 3], [4, 5, 6], [7, 8, 9]]\n"
     ]
    }
   ],
   "source": [
    "hao_list = [[1,2,3],[4,5,6],[7,8,9]]\n",
    "hao_list1 = [[1,2,3],\n",
    "            [4,5,6],\n",
    "            [7,8,9]]\n",
    "print(hao_list)\n",
    "print('&&&&&&&&')\n",
    "print(hao_list1)"
   ]
  },
  {
   "cell_type": "code",
   "execution_count": 3,
   "id": "c561120c",
   "metadata": {},
   "outputs": [
    {
     "name": "stdout",
     "output_type": "stream",
     "text": [
      "[[1 2 3]\n",
      " [4 5 6]\n",
      " [7 8 9]]\n",
      "&&&&&&&\n",
      "[[1 2 3]\n",
      " [4 5 6]\n",
      " [7 8 9]]\n"
     ]
    }
   ],
   "source": [
    "hao_array = np.array(hao_list)\n",
    "hao_array1 = np.array(hao_list1)\n",
    "print(hao_array)\n",
    "print('&&&&&&&')\n",
    "print(hao_array1)"
   ]
  },
  {
   "cell_type": "code",
   "execution_count": 4,
   "id": "4afa02e6",
   "metadata": {},
   "outputs": [
    {
     "data": {
      "text/plain": [
       "8"
      ]
     },
     "execution_count": 4,
     "metadata": {},
     "output_type": "execute_result"
    }
   ],
   "source": [
    "hao_array.itemsize #itemsize表示每个元素所占的字节数"
   ]
  },
  {
   "cell_type": "code",
   "execution_count": 5,
   "id": "41687e0d",
   "metadata": {},
   "outputs": [
    {
     "data": {
      "text/plain": [
       "9"
      ]
     },
     "execution_count": 5,
     "metadata": {},
     "output_type": "execute_result"
    }
   ],
   "source": [
    "hao_array.size"
   ]
  },
  {
   "cell_type": "code",
   "execution_count": 6,
   "id": "d15e9bc2",
   "metadata": {},
   "outputs": [
    {
     "data": {
      "text/plain": [
       "(3, 3)"
      ]
     },
     "execution_count": 6,
     "metadata": {},
     "output_type": "execute_result"
    }
   ],
   "source": [
    "hao_array.shape"
   ]
  },
  {
   "cell_type": "code",
   "execution_count": 7,
   "id": "37493c9a",
   "metadata": {},
   "outputs": [
    {
     "data": {
      "text/plain": [
       "2"
      ]
     },
     "execution_count": 7,
     "metadata": {},
     "output_type": "execute_result"
    }
   ],
   "source": [
    "hao_array.ndim"
   ]
  },
  {
   "cell_type": "code",
   "execution_count": 8,
   "id": "713a1cea",
   "metadata": {},
   "outputs": [
    {
     "data": {
      "text/plain": [
       "dtype('int64')"
      ]
     },
     "execution_count": 8,
     "metadata": {},
     "output_type": "execute_result"
    }
   ],
   "source": [
    "hao_array.dtype"
   ]
  },
  {
   "cell_type": "code",
   "execution_count": 9,
   "id": "114eacf0",
   "metadata": {},
   "outputs": [
    {
     "data": {
      "text/plain": [
       "array([ 0, 20, 40, 60, 80])"
      ]
     },
     "execution_count": 9,
     "metadata": {},
     "output_type": "execute_result"
    }
   ],
   "source": [
    "hao_array = np.arange(0,100,20)\n",
    "hao_array"
   ]
  },
  {
   "cell_type": "code",
   "execution_count": 10,
   "id": "cc083df9",
   "metadata": {},
   "outputs": [
    {
     "data": {
      "text/plain": [
       "array([False,  True, False, False,  True])"
      ]
     },
     "execution_count": 10,
     "metadata": {},
     "output_type": "execute_result"
    }
   ],
   "source": [
    "mask = np.array([0,1,0,0,1], dtype=bool)\n",
    "mask"
   ]
  },
  {
   "cell_type": "code",
   "execution_count": 11,
   "id": "ea22901b",
   "metadata": {},
   "outputs": [
    {
     "data": {
      "text/plain": [
       "array([20, 80])"
      ]
     },
     "execution_count": 11,
     "metadata": {},
     "output_type": "execute_result"
    }
   ],
   "source": [
    "hao_array[mask]"
   ]
  },
  {
   "cell_type": "code",
   "execution_count": 15,
   "id": "14f8a820",
   "metadata": {},
   "outputs": [
    {
     "name": "stdout",
     "output_type": "stream",
     "text": [
      "[[0 2 3]\n",
      " [4 5 6]]\n",
      "[[0 2 3]\n",
      " [4 5 6]]\n"
     ]
    }
   ],
   "source": [
    "array = np.array([[1,2,3],[4,5,6]])\n",
    "array1 = array\n",
    "array1[0,0] = 0\n",
    "print(array)\n",
    "print(array1)"
   ]
  },
  {
   "cell_type": "code",
   "execution_count": 16,
   "id": "b55f7bf3",
   "metadata": {},
   "outputs": [
    {
     "name": "stdout",
     "output_type": "stream",
     "text": [
      "[[1 2 3]\n",
      " [4 5 6]]\n",
      "[[0 2 3]\n",
      " [4 5 6]]\n"
     ]
    }
   ],
   "source": [
    "array = np.array([[1,2,3],[4,5,6]])\n",
    "array1 = array.copy()\n",
    "array1[0,0] = 0\n",
    "print(array)\n",
    "print(array1)"
   ]
  },
  {
   "cell_type": "code",
   "execution_count": 29,
   "id": "2eb1e248",
   "metadata": {},
   "outputs": [
    {
     "data": {
      "text/plain": [
       "array([0.80430318, 0.62209673, 0.75095233, 0.53168852])"
      ]
     },
     "execution_count": 29,
     "metadata": {},
     "output_type": "execute_result"
    }
   ],
   "source": [
    "np.random.rand(10)[np.random.rand(10)> 0.5]"
   ]
  },
  {
   "cell_type": "code",
   "execution_count": 30,
   "id": "db0c9c07",
   "metadata": {},
   "outputs": [
    {
     "name": "stdout",
     "output_type": "stream",
     "text": [
      "[ True False False False False False False False False False] bool\n"
     ]
    }
   ],
   "source": [
    "mask = np.random.rand(10) > 0.5\n",
    "print(mask, mask.dtype)"
   ]
  },
  {
   "cell_type": "code",
   "execution_count": 31,
   "id": "f6e205a7",
   "metadata": {},
   "outputs": [
    {
     "data": {
      "text/plain": [
       "array([0.46376052])"
      ]
     },
     "execution_count": 31,
     "metadata": {},
     "output_type": "execute_result"
    }
   ],
   "source": [
    "array = np.random.rand(10)\n",
    "array[mask]"
   ]
  },
  {
   "cell_type": "code",
   "execution_count": 32,
   "id": "36fb5fbd",
   "metadata": {},
   "outputs": [],
   "source": [
    "array = np.array([1,2,3,4,5,6,7,8,9])"
   ]
  },
  {
   "cell_type": "code",
   "execution_count": 35,
   "id": "596f56a3",
   "metadata": {},
   "outputs": [],
   "source": [
    "mask = array > 5"
   ]
  },
  {
   "cell_type": "code",
   "execution_count": 36,
   "id": "c09cd699",
   "metadata": {},
   "outputs": [
    {
     "data": {
      "text/plain": [
       "array([6, 7, 8, 9])"
      ]
     },
     "execution_count": 36,
     "metadata": {},
     "output_type": "execute_result"
    }
   ],
   "source": [
    "array[mask]"
   ]
  },
  {
   "cell_type": "code",
   "execution_count": 37,
   "id": "3204adad",
   "metadata": {},
   "outputs": [
    {
     "data": {
      "text/plain": [
       "(array([5, 6, 7, 8]),)"
      ]
     },
     "execution_count": 37,
     "metadata": {},
     "output_type": "execute_result"
    }
   ],
   "source": [
    "np.where(mask)"
   ]
  },
  {
   "cell_type": "code",
   "execution_count": 38,
   "id": "7069314e",
   "metadata": {},
   "outputs": [
    {
     "data": {
      "text/plain": [
       "(array([5, 6, 7, 8]),)"
      ]
     },
     "execution_count": 38,
     "metadata": {},
     "output_type": "execute_result"
    }
   ],
   "source": [
    "np.where(array > 5)"
   ]
  },
  {
   "cell_type": "code",
   "execution_count": 40,
   "id": "de3aba30",
   "metadata": {},
   "outputs": [],
   "source": [
    "array = np.array([[1,2,3],[4,5,6],[7,8,9]])"
   ]
  },
  {
   "cell_type": "code",
   "execution_count": 41,
   "id": "851eb405",
   "metadata": {},
   "outputs": [
    {
     "data": {
      "text/plain": [
       "dtype('int64')"
      ]
     },
     "execution_count": 41,
     "metadata": {},
     "output_type": "execute_result"
    }
   ],
   "source": [
    "array.dtype"
   ]
  },
  {
   "cell_type": "code",
   "execution_count": 42,
   "id": "49bb2216",
   "metadata": {},
   "outputs": [
    {
     "data": {
      "text/plain": [
       "8"
      ]
     },
     "execution_count": 42,
     "metadata": {},
     "output_type": "execute_result"
    }
   ],
   "source": [
    "array.itemsize"
   ]
  },
  {
   "cell_type": "code",
   "execution_count": 43,
   "id": "b7aa745b",
   "metadata": {},
   "outputs": [
    {
     "data": {
      "text/plain": [
       "72"
      ]
     },
     "execution_count": 43,
     "metadata": {},
     "output_type": "execute_result"
    }
   ],
   "source": [
    "array.nbytes"
   ]
  },
  {
   "cell_type": "code",
   "execution_count": 44,
   "id": "c3440f87",
   "metadata": {},
   "outputs": [
    {
     "data": {
      "text/plain": [
       "9"
      ]
     },
     "execution_count": 44,
     "metadata": {},
     "output_type": "execute_result"
    }
   ],
   "source": [
    "array.size"
   ]
  },
  {
   "cell_type": "code",
   "execution_count": 48,
   "id": "7d6c58ac",
   "metadata": {},
   "outputs": [
    {
     "name": "stdout",
     "output_type": "stream",
     "text": [
      "size:9.0, arraysize:9\n"
     ]
    }
   ],
   "source": [
    "size = array.nbytes/array.itemsize\n",
    "print('size:{}, arraysize:{}'.format(size,array.size))"
   ]
  },
  {
   "cell_type": "code",
   "execution_count": 49,
   "id": "b480e634",
   "metadata": {},
   "outputs": [
    {
     "data": {
      "text/plain": [
       "array([[1, 2, 3],\n",
       "       [4, 5, 6]])"
      ]
     },
     "execution_count": 49,
     "metadata": {},
     "output_type": "execute_result"
    }
   ],
   "source": [
    "sum_array = np.array([[1,2,3],[4,5,6]])\n",
    "sum_array"
   ]
  },
  {
   "cell_type": "code",
   "execution_count": 50,
   "id": "856d3cd9",
   "metadata": {},
   "outputs": [
    {
     "data": {
      "text/plain": [
       "21"
      ]
     },
     "execution_count": 50,
     "metadata": {},
     "output_type": "execute_result"
    }
   ],
   "source": [
    "np.sum(sum_array)"
   ]
  },
  {
   "cell_type": "code",
   "execution_count": 51,
   "id": "83eca5b6",
   "metadata": {},
   "outputs": [
    {
     "data": {
      "text/plain": [
       "array([5, 7, 9])"
      ]
     },
     "execution_count": 51,
     "metadata": {},
     "output_type": "execute_result"
    }
   ],
   "source": [
    "np.sum(sum_array, axis=0)"
   ]
  },
  {
   "cell_type": "code",
   "execution_count": 52,
   "id": "5a0aa26a",
   "metadata": {},
   "outputs": [
    {
     "data": {
      "text/plain": [
       "array([ 6, 15])"
      ]
     },
     "execution_count": 52,
     "metadata": {},
     "output_type": "execute_result"
    }
   ],
   "source": [
    "np.sum(sum_array, axis=1)"
   ]
  },
  {
   "cell_type": "code",
   "execution_count": 53,
   "id": "69499e53",
   "metadata": {},
   "outputs": [
    {
     "data": {
      "text/plain": [
       "array([ 6, 15])"
      ]
     },
     "execution_count": 53,
     "metadata": {},
     "output_type": "execute_result"
    }
   ],
   "source": [
    "np.sum(sum_array, axis=-1)"
   ]
  },
  {
   "cell_type": "code",
   "execution_count": 54,
   "id": "35e39f18",
   "metadata": {},
   "outputs": [
    {
     "data": {
      "text/plain": [
       "array([[1, 2, 3],\n",
       "       [4, 5, 6]])"
      ]
     },
     "execution_count": 54,
     "metadata": {},
     "output_type": "execute_result"
    }
   ],
   "source": [
    "pro_array = np.array([[1,2,3],[4,5,6]])\n",
    "pro_array"
   ]
  },
  {
   "cell_type": "code",
   "execution_count": 56,
   "id": "9a849ff3",
   "metadata": {},
   "outputs": [
    {
     "data": {
      "text/plain": [
       "720"
      ]
     },
     "execution_count": 56,
     "metadata": {},
     "output_type": "execute_result"
    }
   ],
   "source": [
    "pro_array.prod()"
   ]
  },
  {
   "cell_type": "code",
   "execution_count": 57,
   "id": "7e8adc00",
   "metadata": {},
   "outputs": [
    {
     "data": {
      "text/plain": [
       "array([ 4, 10, 18])"
      ]
     },
     "execution_count": 57,
     "metadata": {},
     "output_type": "execute_result"
    }
   ],
   "source": [
    "pro_array.prod(axis=0)"
   ]
  },
  {
   "cell_type": "code",
   "execution_count": 58,
   "id": "aac56052",
   "metadata": {},
   "outputs": [
    {
     "data": {
      "text/plain": [
       "array([  6, 120])"
      ]
     },
     "execution_count": 58,
     "metadata": {},
     "output_type": "execute_result"
    }
   ],
   "source": [
    "pro_array.prod(axis=1)"
   ]
  },
  {
   "cell_type": "code",
   "execution_count": 59,
   "id": "3f25a025",
   "metadata": {},
   "outputs": [
    {
     "data": {
      "text/plain": [
       "array([  6, 120])"
      ]
     },
     "execution_count": 59,
     "metadata": {},
     "output_type": "execute_result"
    }
   ],
   "source": [
    "pro_array.prod(axis=-1)"
   ]
  },
  {
   "cell_type": "code",
   "execution_count": 60,
   "id": "bc1ccf5d",
   "metadata": {},
   "outputs": [
    {
     "data": {
      "text/plain": [
       "array([[ 1,  3,  5,  7,  9],\n",
       "       [ 2,  4,  6,  8, 10]])"
      ]
     },
     "execution_count": 60,
     "metadata": {},
     "output_type": "execute_result"
    }
   ],
   "source": [
    "mm_array = np.array([[1,3,5,7,9],[2,4,6,8,10]])\n",
    "mm_array"
   ]
  },
  {
   "cell_type": "code",
   "execution_count": 65,
   "id": "13355b3a",
   "metadata": {},
   "outputs": [
    {
     "name": "stdout",
     "output_type": "stream",
     "text": [
      "1\n",
      "[1 3 5 7 9]\n",
      "[1 2]\n"
     ]
    }
   ],
   "source": [
    "print(mm_array.min())\n",
    "print(mm_array.min(axis=0))\n",
    "print(mm_array.min(axis=1))"
   ]
  },
  {
   "cell_type": "code",
   "execution_count": 66,
   "id": "c712f304",
   "metadata": {},
   "outputs": [
    {
     "name": "stdout",
     "output_type": "stream",
     "text": [
      "10\n",
      "[ 2  4  6  8 10]\n",
      "[ 9 10]\n"
     ]
    }
   ],
   "source": [
    "print(mm_array.max())\n",
    "print(mm_array.max(axis=0))\n",
    "print(mm_array.max(axis=1))"
   ]
  },
  {
   "cell_type": "code",
   "execution_count": 67,
   "id": "844360ea",
   "metadata": {},
   "outputs": [
    {
     "data": {
      "text/plain": [
       "array([[1, 2, 3],\n",
       "       [3, 2, 1],\n",
       "       [4, 5, 6],\n",
       "       [7, 8, 9]])"
      ]
     },
     "execution_count": 67,
     "metadata": {},
     "output_type": "execute_result"
    }
   ],
   "source": [
    "find_array = np.array([[1,2,3],[3,2,1],[4,5,6],[7,8,9]])\n",
    "find_array"
   ]
  },
  {
   "cell_type": "code",
   "execution_count": 70,
   "id": "ef477fa6",
   "metadata": {},
   "outputs": [
    {
     "name": "stdout",
     "output_type": "stream",
     "text": [
      "11\n",
      "[3 3 3]\n",
      "[2 0 2 2]\n"
     ]
    }
   ],
   "source": [
    "print(find_array.argmax())\n",
    "print(find_array.argmax(axis=0))\n",
    "print(find_array.argmax(axis=1))"
   ]
  },
  {
   "cell_type": "code",
   "execution_count": 71,
   "id": "4014c7be",
   "metadata": {},
   "outputs": [
    {
     "name": "stdout",
     "output_type": "stream",
     "text": [
      "0\n",
      "[0 0 1]\n",
      "[0 2 0 0]\n"
     ]
    }
   ],
   "source": [
    "print(find_array.argmin())\n",
    "print(find_array.argmin(axis=0))\n",
    "print(find_array.argmin(axis=1))"
   ]
  },
  {
   "cell_type": "code",
   "execution_count": 72,
   "id": "33eb94c7",
   "metadata": {},
   "outputs": [
    {
     "name": "stdout",
     "output_type": "stream",
     "text": [
      "4.25\n",
      "[3.75 4.25 4.75]\n",
      "[2. 2. 5. 8.]\n"
     ]
    }
   ],
   "source": [
    "print(find_array.mean())\n",
    "print(find_array.mean(axis=0))\n",
    "print(find_array.mean(axis=1))"
   ]
  },
  {
   "cell_type": "code",
   "execution_count": 73,
   "id": "e2c63aa3",
   "metadata": {},
   "outputs": [
    {
     "name": "stdout",
     "output_type": "stream",
     "text": [
      "2.6180463454008347\n",
      "[2.16506351 2.48746859 3.03108891]\n",
      "[0.81649658 0.81649658 0.81649658 0.81649658]\n"
     ]
    }
   ],
   "source": [
    "print(find_array.std())\n",
    "print(find_array.std(axis=0))\n",
    "print(find_array.std(axis=1))"
   ]
  },
  {
   "cell_type": "code",
   "execution_count": 74,
   "id": "7dc70931",
   "metadata": {},
   "outputs": [
    {
     "name": "stdout",
     "output_type": "stream",
     "text": [
      "6.854166666666667\n",
      "[4.6875 6.1875 9.1875]\n",
      "[0.66666667 0.66666667 0.66666667 0.66666667]\n"
     ]
    }
   ],
   "source": [
    "print(find_array.var())\n",
    "print(find_array.var(axis=0))\n",
    "print(find_array.var(axis=1))"
   ]
  },
  {
   "cell_type": "code",
   "execution_count": 75,
   "id": "6fa8182a",
   "metadata": {},
   "outputs": [
    {
     "data": {
      "text/plain": [
       "array([[2, 2, 3],\n",
       "       [3, 2, 2],\n",
       "       [4, 5, 6],\n",
       "       [7, 7, 7]])"
      ]
     },
     "execution_count": 75,
     "metadata": {},
     "output_type": "execute_result"
    }
   ],
   "source": [
    "find_array.clip(2,7)"
   ]
  },
  {
   "cell_type": "code",
   "execution_count": 76,
   "id": "212d1a8e",
   "metadata": {},
   "outputs": [
    {
     "data": {
      "text/plain": [
       "array([[1.2, 1.3, 1.4, 1.5],\n",
       "       [1.5, 1.6, 1.7, 1.8]])"
      ]
     },
     "execution_count": 76,
     "metadata": {},
     "output_type": "execute_result"
    }
   ],
   "source": [
    "rd_array = np.array([[1.2,1.3,1.4,1.5],[1.5,1.6,1.7,1.8]])\n",
    "rd_array"
   ]
  },
  {
   "cell_type": "code",
   "execution_count": 77,
   "id": "05eb5b97",
   "metadata": {},
   "outputs": [
    {
     "data": {
      "text/plain": [
       "array([[1., 1., 1., 2.],\n",
       "       [2., 2., 2., 2.]])"
      ]
     },
     "execution_count": 77,
     "metadata": {},
     "output_type": "execute_result"
    }
   ],
   "source": [
    "rd_array.round()"
   ]
  },
  {
   "cell_type": "code",
   "execution_count": 87,
   "id": "239b8a0d",
   "metadata": {},
   "outputs": [
    {
     "data": {
      "text/plain": [
       "array([[1.2345, 1.3456, 1.4567, 1.5678],\n",
       "       [1.5678, 1.6789, 1.789 , 1.89  ]])"
      ]
     },
     "execution_count": 87,
     "metadata": {},
     "output_type": "execute_result"
    }
   ],
   "source": [
    "rd_array1 = np.array([[1.2345,1.3456,1.4567,1.5678],[1.5678,1.6789,1.7890,1.8900]])\n",
    "rd_array1"
   ]
  },
  {
   "cell_type": "code",
   "execution_count": 91,
   "id": "7ca9d882",
   "metadata": {},
   "outputs": [
    {
     "name": "stdout",
     "output_type": "stream",
     "text": [
      "[[1. 1. 1. 2.]\n",
      " [2. 2. 2. 2.]]\n",
      "[[1.2 1.3 1.5 1.6]\n",
      " [1.6 1.7 1.8 1.9]]\n",
      "[[1.23 1.35 1.46 1.57]\n",
      " [1.57 1.68 1.79 1.89]]\n",
      "[[1.2345 1.3456 1.4567 1.5678]\n",
      " [1.5678 1.6789 1.789  1.89  ]]\n"
     ]
    }
   ],
   "source": [
    "print(rd_array1.round())\n",
    "print(rd_array1.round(decimals=1))\n",
    "print(rd_array1.round(decimals=2))\n",
    "print(rd_array1.round(decimals=4))"
   ]
  },
  {
   "cell_type": "code",
   "execution_count": 101,
   "id": "367e4ec1",
   "metadata": {},
   "outputs": [
    {
     "data": {
      "text/plain": [
       "array([[ 1, 15, 25,  3,  9],\n",
       "       [ 9, 56,  4, 18, 15]])"
      ]
     },
     "execution_count": 101,
     "metadata": {},
     "output_type": "execute_result"
    }
   ],
   "source": [
    "sort_array = np.array([[1,15,25,3,9],[9,56,4,18,15]])\n",
    "sort_array"
   ]
  },
  {
   "cell_type": "code",
   "execution_count": 106,
   "id": "f96aecb1",
   "metadata": {},
   "outputs": [
    {
     "name": "stdout",
     "output_type": "stream",
     "text": [
      "[[ 1  3  9 15 25]\n",
      " [ 4  9 15 18 56]]\n",
      "&&&&&&&&&&&&&&&&&\n",
      "[[ 1 15  4  3  9]\n",
      " [ 9 56 25 18 15]]\n",
      "&&&&&&&&&&&&&&&&&\n",
      "[[ 1  3  9 15 25]\n",
      " [ 4  9 15 18 56]]\n"
     ]
    }
   ],
   "source": [
    "print(np.sort(sort_array))\n",
    "print('&&&&&&&&&&&&&&&&&')\n",
    "print(np.sort(sort_array, axis=0))\n",
    "print('&&&&&&&&&&&&&&&&&')\n",
    "print(np.sort(sort_array, axis=-1))  #default value: axis=-1"
   ]
  },
  {
   "cell_type": "code",
   "execution_count": 107,
   "id": "8071c5dd",
   "metadata": {},
   "outputs": [
    {
     "data": {
      "text/plain": [
       "array([[0, 3, 4, 1, 2],\n",
       "       [2, 0, 4, 3, 1]])"
      ]
     },
     "execution_count": 107,
     "metadata": {},
     "output_type": "execute_result"
    }
   ],
   "source": [
    "sort_array.argsort()"
   ]
  },
  {
   "cell_type": "code",
   "execution_count": 122,
   "id": "75de3e74",
   "metadata": {},
   "outputs": [
    {
     "data": {
      "text/plain": [
       "array([ 0,  1,  2,  3,  4,  5,  6,  7,  8,  9, 10])"
      ]
     },
     "execution_count": 122,
     "metadata": {},
     "output_type": "execute_result"
    }
   ],
   "source": [
    "search_array = np.arange(0,11,1)\n",
    "search_array"
   ]
  },
  {
   "cell_type": "code",
   "execution_count": 125,
   "id": "ca86c232",
   "metadata": {},
   "outputs": [
    {
     "data": {
      "text/plain": [
       "array([ 2,  4, 10])"
      ]
     },
     "execution_count": 125,
     "metadata": {},
     "output_type": "execute_result"
    }
   ],
   "source": [
    "values = np.array([1.5,3.5,9.5])\n",
    "np.searchsorted(search_array, values)  #@@@@@@@@@@@@@@@@@@@@"
   ]
  },
  {
   "cell_type": "code",
   "execution_count": 141,
   "id": "42cbb813",
   "metadata": {},
   "outputs": [
    {
     "data": {
      "text/plain": [
       "array([[1, 3, 1, 7],\n",
       "       [1, 5, 7, 9],\n",
       "       [3, 2, 3, 4],\n",
       "       [3, 4, 5, 6]])"
      ]
     },
     "execution_count": 141,
     "metadata": {},
     "output_type": "execute_result"
    }
   ],
   "source": [
    "lexs_array = np.array([[1,3,1,7],[1,5,7,9],[3,2,3,4],[3,4,5,6]])\n",
    "lexs_array"
   ]
  },
  {
   "cell_type": "code",
   "execution_count": 144,
   "id": "2fe8877d",
   "metadata": {},
   "outputs": [
    {
     "data": {
      "text/plain": [
       "array([2, 3, 0, 1])"
      ]
     },
     "execution_count": 144,
     "metadata": {},
     "output_type": "execute_result"
    }
   ],
   "source": [
    "index = np.lexsort([-1*lexs_array[:,0]])\n",
    "index"
   ]
  },
  {
   "cell_type": "code",
   "execution_count": 145,
   "id": "8ba64425",
   "metadata": {},
   "outputs": [
    {
     "data": {
      "text/plain": [
       "array([[3, 2, 3, 4],\n",
       "       [3, 4, 5, 6],\n",
       "       [1, 3, 1, 7],\n",
       "       [1, 5, 7, 9]])"
      ]
     },
     "execution_count": 145,
     "metadata": {},
     "output_type": "execute_result"
    }
   ],
   "source": [
    "lexs_array[index]"
   ]
  },
  {
   "cell_type": "code",
   "execution_count": 17,
   "id": "894ef9ab",
   "metadata": {},
   "outputs": [
    {
     "data": {
      "text/plain": [
       "array([0, 1, 2, 3, 4, 5, 6, 7, 8])"
      ]
     },
     "execution_count": 17,
     "metadata": {},
     "output_type": "execute_result"
    }
   ],
   "source": [
    "shape_array = np.arange(9)\n",
    "shape_array"
   ]
  },
  {
   "cell_type": "code",
   "execution_count": 18,
   "id": "241e10fb",
   "metadata": {},
   "outputs": [
    {
     "data": {
      "text/plain": [
       "(9,)"
      ]
     },
     "execution_count": 18,
     "metadata": {},
     "output_type": "execute_result"
    }
   ],
   "source": [
    "shape_array.shape"
   ]
  },
  {
   "cell_type": "code",
   "execution_count": 24,
   "id": "5ccec924",
   "metadata": {},
   "outputs": [
    {
     "data": {
      "text/plain": [
       "array([[[0, 1, 2, 3, 4, 5, 6, 7, 8]]])"
      ]
     },
     "execution_count": 24,
     "metadata": {},
     "output_type": "execute_result"
    }
   ],
   "source": [
    "shape_array = shape_array[np.newaxis, :]\n",
    "shape_array"
   ]
  },
  {
   "cell_type": "code",
   "execution_count": 25,
   "id": "58aa1c7e",
   "metadata": {},
   "outputs": [
    {
     "data": {
      "text/plain": [
       "array([[0, 1, 2],\n",
       "       [3, 4, 5],\n",
       "       [6, 7, 8]])"
      ]
     },
     "execution_count": 25,
     "metadata": {},
     "output_type": "execute_result"
    }
   ],
   "source": [
    "shape_array.reshape(3,3)"
   ]
  },
  {
   "cell_type": "code",
   "execution_count": 28,
   "id": "949f67c8",
   "metadata": {},
   "outputs": [
    {
     "data": {
      "text/plain": [
       "array([[[0, 1, 2],\n",
       "        [3, 4, 5],\n",
       "        [6, 7, 8]]])"
      ]
     },
     "execution_count": 28,
     "metadata": {},
     "output_type": "execute_result"
    }
   ],
   "source": [
    "shape_array = shape_array.reshape(3,3)[np.newaxis, :]\n",
    "shape_array"
   ]
  },
  {
   "cell_type": "code",
   "execution_count": 29,
   "id": "4ac181bb",
   "metadata": {},
   "outputs": [
    {
     "data": {
      "text/plain": [
       "(1, 3, 3)"
      ]
     },
     "execution_count": 29,
     "metadata": {},
     "output_type": "execute_result"
    }
   ],
   "source": [
    "shape_array.shape"
   ]
  },
  {
   "cell_type": "code",
   "execution_count": 30,
   "id": "c768084a",
   "metadata": {},
   "outputs": [
    {
     "data": {
      "text/plain": [
       "array([[0, 1, 2],\n",
       "       [3, 4, 5],\n",
       "       [6, 7, 8]])"
      ]
     },
     "execution_count": 30,
     "metadata": {},
     "output_type": "execute_result"
    }
   ],
   "source": [
    "shape_array.squeeze()"
   ]
  },
  {
   "cell_type": "code",
   "execution_count": 34,
   "id": "442d9ae0",
   "metadata": {},
   "outputs": [
    {
     "data": {
      "text/plain": [
       "(3, 3)"
      ]
     },
     "execution_count": 34,
     "metadata": {},
     "output_type": "execute_result"
    }
   ],
   "source": [
    "np.squeeze(shape_array, axis=0).shape"
   ]
  },
  {
   "cell_type": "code",
   "execution_count": 35,
   "id": "76a89f57",
   "metadata": {},
   "outputs": [
    {
     "data": {
      "text/plain": [
       "(1, 3, 1)"
      ]
     },
     "execution_count": 35,
     "metadata": {},
     "output_type": "execute_result"
    }
   ],
   "source": [
    "x = np.array([[[0],[1],[2]]])\n",
    "x.shape"
   ]
  },
  {
   "cell_type": "code",
   "execution_count": 36,
   "id": "24aa9461",
   "metadata": {},
   "outputs": [
    {
     "data": {
      "text/plain": [
       "(3, 1)"
      ]
     },
     "execution_count": 36,
     "metadata": {},
     "output_type": "execute_result"
    }
   ],
   "source": [
    "np.squeeze(x, axis=0).shape"
   ]
  },
  {
   "cell_type": "code",
   "execution_count": 37,
   "id": "aa733970",
   "metadata": {},
   "outputs": [
    {
     "ename": "ValueError",
     "evalue": "cannot select an axis to squeeze out which has size not equal to one",
     "output_type": "error",
     "traceback": [
      "\u001b[0;31m---------------------------------------------------------------------------\u001b[0m",
      "\u001b[0;31mValueError\u001b[0m                                Traceback (most recent call last)",
      "Input \u001b[0;32mIn [37]\u001b[0m, in \u001b[0;36m<cell line: 1>\u001b[0;34m()\u001b[0m\n\u001b[0;32m----> 1\u001b[0m \u001b[43mnp\u001b[49m\u001b[38;5;241;43m.\u001b[39;49m\u001b[43msqueeze\u001b[49m\u001b[43m(\u001b[49m\u001b[43mx\u001b[49m\u001b[43m,\u001b[49m\u001b[43m \u001b[49m\u001b[43maxis\u001b[49m\u001b[38;5;241;43m=\u001b[39;49m\u001b[38;5;241;43m1\u001b[39;49m\u001b[43m)\u001b[49m\u001b[38;5;241m.\u001b[39mshape\n",
      "File \u001b[0;32m<__array_function__ internals>:5\u001b[0m, in \u001b[0;36msqueeze\u001b[0;34m(*args, **kwargs)\u001b[0m\n",
      "File \u001b[0;32m/opt/anaconda3/lib/python3.9/site-packages/numpy/core/fromnumeric.py:1508\u001b[0m, in \u001b[0;36msqueeze\u001b[0;34m(a, axis)\u001b[0m\n\u001b[1;32m   1506\u001b[0m     \u001b[38;5;28;01mreturn\u001b[39;00m squeeze()\n\u001b[1;32m   1507\u001b[0m \u001b[38;5;28;01melse\u001b[39;00m:\n\u001b[0;32m-> 1508\u001b[0m     \u001b[38;5;28;01mreturn\u001b[39;00m \u001b[43msqueeze\u001b[49m\u001b[43m(\u001b[49m\u001b[43maxis\u001b[49m\u001b[38;5;241;43m=\u001b[39;49m\u001b[43maxis\u001b[49m\u001b[43m)\u001b[49m\n",
      "\u001b[0;31mValueError\u001b[0m: cannot select an axis to squeeze out which has size not equal to one"
     ]
    }
   ],
   "source": [
    "np.squeeze(x, axis=1).shape"
   ]
  },
  {
   "cell_type": "code",
   "execution_count": 38,
   "id": "a555e753",
   "metadata": {},
   "outputs": [
    {
     "data": {
      "text/plain": [
       "(1, 3)"
      ]
     },
     "execution_count": 38,
     "metadata": {},
     "output_type": "execute_result"
    }
   ],
   "source": [
    "np.squeeze(x, axis=2).shape"
   ]
  },
  {
   "cell_type": "code",
   "execution_count": 41,
   "id": "4ac50504",
   "metadata": {},
   "outputs": [],
   "source": [
    "x0 = np.array([1234])"
   ]
  },
  {
   "cell_type": "code",
   "execution_count": 42,
   "id": "cb2a6495",
   "metadata": {},
   "outputs": [],
   "source": [
    "x1 = np.array([[1234]])"
   ]
  },
  {
   "cell_type": "code",
   "execution_count": 43,
   "id": "2c57862c",
   "metadata": {},
   "outputs": [
    {
     "name": "stdout",
     "output_type": "stream",
     "text": [
      "(1,) (1, 1)\n"
     ]
    }
   ],
   "source": [
    "print(x0.shape, x1.shape)"
   ]
  },
  {
   "cell_type": "code",
   "execution_count": 46,
   "id": "80cee0e1",
   "metadata": {},
   "outputs": [
    {
     "data": {
      "text/plain": [
       "array([4, 4, 4, 1, 2, 3, 4, 5, 6, 6, 6])"
      ]
     },
     "execution_count": 46,
     "metadata": {},
     "output_type": "execute_result"
    }
   ],
   "source": [
    "a = [1, 2, 3, 4, 5]\n",
    "np.pad(a, (3, 3), 'constant', constant_values=(4, 6))"
   ]
  },
  {
   "cell_type": "code",
   "execution_count": 63,
   "id": "28be46e0",
   "metadata": {},
   "outputs": [
    {
     "data": {
      "text/plain": [
       "array([[[7.22966207e-01, 4.28420511e-01, 8.95364625e-01, 2.74130789e-01,\n",
       "         4.22551254e-01, 1.18494334e-01, 5.86938136e-01, 4.47567774e-01],\n",
       "        [8.84632941e-01, 6.32337715e-01, 1.77885208e-01, 5.42339737e-01,\n",
       "         9.98473389e-01, 4.41077552e-01, 3.56004471e-01, 3.96087192e-01],\n",
       "        [4.23313136e-01, 1.02503210e-01, 3.84632789e-01, 1.75407701e-02,\n",
       "         8.91580583e-01, 7.52730836e-01, 5.50516334e-01, 7.92347957e-01],\n",
       "        [6.56040866e-01, 6.51280075e-01, 5.70631941e-02, 1.09978725e-01,\n",
       "         8.04454067e-02, 9.78671696e-01, 2.87358261e-01, 3.01601448e-01],\n",
       "        [5.65355204e-01, 6.05174882e-02, 2.36639858e-01, 7.08087317e-01,\n",
       "         5.73801097e-01, 4.79331955e-01, 8.41865330e-01, 3.36079199e-01],\n",
       "        [3.59312239e-01, 3.62161536e-01, 4.97218492e-01, 8.19344571e-01,\n",
       "         8.24921851e-01, 9.96557822e-01, 2.42999259e-01, 7.02135311e-01],\n",
       "        [6.89092536e-02, 5.77805984e-01, 7.74183655e-02, 8.08768669e-01,\n",
       "         6.69497892e-01, 1.20538143e-02, 1.60113988e-01, 4.99212352e-01]],\n",
       "\n",
       "       [[5.59230609e-01, 4.39545351e-01, 4.12392785e-01, 1.15606982e-01,\n",
       "         2.51813778e-01, 9.00920600e-01, 8.13483325e-01, 5.53364539e-02],\n",
       "        [4.04930158e-01, 3.90779308e-01, 6.79520072e-01, 9.14685202e-01,\n",
       "         5.18251247e-01, 7.85224366e-01, 2.40426726e-01, 8.48051523e-01],\n",
       "        [2.34499578e-01, 6.53627240e-01, 6.14166038e-02, 7.36112765e-01,\n",
       "         1.23180571e-01, 7.16075238e-01, 7.46529238e-01, 7.70089833e-01],\n",
       "        [2.71506070e-01, 6.35416399e-01, 4.26960540e-01, 8.32743910e-01,\n",
       "         9.56668512e-01, 2.55415296e-02, 5.87355798e-01, 2.76316960e-04],\n",
       "        [5.31373174e-01, 4.26665639e-01, 9.97349797e-01, 9.27524176e-01,\n",
       "         6.14236442e-01, 2.52659078e-01, 4.30669984e-01, 2.03710075e-01],\n",
       "        [7.92140902e-01, 3.72845215e-01, 3.97031458e-01, 2.51561853e-01,\n",
       "         1.00000000e+02, 5.34804418e-02, 5.22492926e-01, 1.57443001e-01],\n",
       "        [4.88366968e-01, 6.81429126e-01, 4.96832763e-02, 6.91673604e-01,\n",
       "         2.21723840e-01, 6.72007028e-01, 6.96515312e-02, 3.03315907e-01]],\n",
       "\n",
       "       [[1.57401140e-01, 2.38034053e-01, 8.36449413e-01, 2.04894477e-01,\n",
       "         2.35343214e-01, 2.75533113e-01, 3.56582422e-01, 8.89277431e-01],\n",
       "        [3.01500688e-01, 7.40811937e-01, 7.27038868e-01, 5.79812027e-01,\n",
       "         5.55684584e-01, 9.52815739e-01, 2.23650327e-01, 2.54082890e-01],\n",
       "        [1.70105168e-01, 8.13433459e-01, 7.45672297e-01, 1.22525836e-02,\n",
       "         1.09254400e-01, 1.41915267e-01, 7.25451784e-02, 7.64869762e-01],\n",
       "        [1.18777284e-01, 6.30647764e-01, 9.50166781e-01, 2.60624966e-01,\n",
       "         4.34547911e-01, 7.28289804e-01, 3.54891939e-01, 5.83036086e-01],\n",
       "        [8.56256075e-01, 8.70130003e-01, 9.18224770e-01, 1.31292836e-01,\n",
       "         8.58963388e-02, 4.91501687e-01, 2.82192191e-01, 1.92182395e-01],\n",
       "        [3.04906349e-01, 8.86326602e-01, 6.93134634e-01, 8.97395031e-01,\n",
       "         5.82695206e-02, 9.26606760e-01, 2.07143864e-01, 2.77054718e-01],\n",
       "        [7.55836094e-01, 7.18181932e-01, 4.77690352e-01, 6.33026046e-01,\n",
       "         9.62674323e-01, 2.01782915e-01, 3.81745926e-01, 4.47119591e-01]],\n",
       "\n",
       "       [[9.85902936e-01, 9.22106722e-01, 9.40498256e-01, 3.66837646e-01,\n",
       "         9.79575607e-01, 8.45531693e-02, 1.46905361e-01, 7.00946181e-01],\n",
       "        [4.05684743e-02, 8.73321266e-01, 4.79048081e-01, 7.87092195e-01,\n",
       "         6.20094254e-01, 5.19366962e-01, 5.58269642e-01, 2.63938081e-01],\n",
       "        [8.44341901e-01, 2.65350059e-01, 4.54872309e-01, 5.64451373e-01,\n",
       "         5.01869745e-01, 9.35641175e-01, 9.53358586e-01, 7.41431928e-01],\n",
       "        [7.37442136e-01, 3.76540989e-01, 8.96379750e-01, 5.69071309e-01,\n",
       "         6.83499429e-03, 8.37777702e-01, 6.32955919e-01, 3.57399002e-01],\n",
       "        [9.98351448e-01, 4.18392363e-01, 9.64784958e-01, 6.00526162e-01,\n",
       "         5.82191453e-01, 1.42575939e-02, 9.09206547e-01, 4.80835368e-03],\n",
       "        [5.38679342e-02, 2.93130153e-01, 1.21384646e-01, 4.86840157e-01,\n",
       "         7.97834040e-01, 4.42161714e-01, 6.28560415e-01, 5.41330192e-01],\n",
       "        [3.88748241e-01, 8.51785215e-01, 4.75751992e-01, 7.08236185e-01,\n",
       "         2.23791095e-01, 3.37646028e-01, 3.07551271e-01, 6.49515712e-01]],\n",
       "\n",
       "       [[5.11608413e-01, 2.67758188e-01, 1.93886292e-01, 6.56823041e-01,\n",
       "         1.42813762e-01, 3.28750053e-01, 8.12023487e-02, 3.85196966e-01],\n",
       "        [5.41020383e-01, 3.78971830e-01, 1.38243928e-01, 5.33802574e-01,\n",
       "         8.08892681e-01, 1.77343847e-01, 7.48983961e-01, 9.49345119e-01],\n",
       "        [4.94349464e-01, 4.80431310e-01, 7.68980005e-01, 5.25419151e-01,\n",
       "         3.21015529e-01, 8.67750642e-01, 3.92105959e-01, 8.91634170e-01],\n",
       "        [5.06651717e-01, 6.70982005e-01, 4.39346367e-01, 9.28747327e-01,\n",
       "         1.18370214e-01, 6.98598214e-01, 9.83098397e-01, 2.79680926e-01],\n",
       "        [9.07413708e-01, 4.49378035e-01, 8.24249702e-01, 5.54288233e-01,\n",
       "         7.63820345e-01, 7.86096691e-01, 6.85029501e-01, 5.74176002e-01],\n",
       "        [8.85005229e-01, 2.06292597e-01, 3.14009064e-01, 1.97895737e-01,\n",
       "         9.92969299e-01, 9.41826098e-01, 5.40857229e-02, 2.16037089e-02],\n",
       "        [6.66118912e-01, 3.80169212e-02, 4.63357362e-01, 8.82983989e-01,\n",
       "         8.97452606e-01, 2.12427131e-02, 9.15526829e-01, 9.29867886e-01]],\n",
       "\n",
       "       [[8.11872293e-01, 9.52856933e-01, 3.88142164e-01, 6.10757765e-02,\n",
       "         4.56376607e-01, 2.16769261e-01, 2.29195263e-01, 4.13170730e-01],\n",
       "        [7.97401578e-01, 2.18850304e-01, 6.67847032e-01, 5.45999230e-01,\n",
       "         8.47414468e-01, 9.56111535e-01, 6.09155200e-01, 9.44024751e-01],\n",
       "        [9.40781538e-02, 7.19952771e-01, 8.27302601e-01, 6.09039928e-02,\n",
       "         6.87809498e-01, 5.58289501e-02, 2.21302706e-01, 7.21678006e-01],\n",
       "        [3.17710497e-01, 8.83831325e-01, 6.18801121e-02, 9.93337144e-01,\n",
       "         2.58923350e-01, 1.92097784e-01, 4.68789683e-01, 7.23665926e-01],\n",
       "        [3.68368080e-01, 3.51535166e-01, 8.63116512e-01, 4.15767973e-02,\n",
       "         5.69350061e-01, 7.94549511e-01, 7.35323193e-01, 1.08487088e-01],\n",
       "        [3.12274220e-01, 8.93661877e-01, 2.40893583e-02, 3.59816397e-01,\n",
       "         9.66325728e-02, 6.14268193e-01, 8.82533998e-01, 3.66860795e-01],\n",
       "        [7.06175904e-01, 7.75225996e-01, 2.53078470e-01, 4.72172585e-02,\n",
       "         5.47689263e-01, 9.25370754e-01, 6.74452273e-01, 2.74381325e-01]]])"
      ]
     },
     "execution_count": 63,
     "metadata": {},
     "output_type": "execute_result"
    }
   ],
   "source": [
    "one678 = np.random.random((6,7,8))\n",
    "one678[1,5,4] = 100\n",
    "one678"
   ]
  },
  {
   "cell_type": "code",
   "execution_count": null,
   "id": "95cc5dec",
   "metadata": {},
   "outputs": [],
   "source": []
  }
 ],
 "metadata": {
  "kernelspec": {
   "display_name": "Python 3 (ipykernel)",
   "language": "python",
   "name": "python3"
  },
  "language_info": {
   "codemirror_mode": {
    "name": "ipython",
    "version": 3
   },
   "file_extension": ".py",
   "mimetype": "text/x-python",
   "name": "python",
   "nbconvert_exporter": "python",
   "pygments_lexer": "ipython3",
   "version": "3.9.12"
  }
 },
 "nbformat": 4,
 "nbformat_minor": 5
}
