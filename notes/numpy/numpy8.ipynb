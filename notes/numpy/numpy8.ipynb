{
 "cells": [
  {
   "cell_type": "markdown",
   "id": "a5c5a425",
   "metadata": {},
   "source": [
    "随机模块"
   ]
  },
  {
   "cell_type": "code",
   "execution_count": 1,
   "id": "62ceeedc",
   "metadata": {},
   "outputs": [],
   "source": [
    "import numpy as np"
   ]
  },
  {
   "cell_type": "code",
   "execution_count": 36,
   "id": "8152e600",
   "metadata": {},
   "outputs": [
    {
     "data": {
      "text/plain": [
       "array([[0.0820070976, 0.952036381 ],\n",
       "       [0.6445647098, 0.3751995425],\n",
       "       [0.6936137232, 0.2302468011]])"
      ]
     },
     "execution_count": 36,
     "metadata": {},
     "output_type": "execute_result"
    }
   ],
   "source": [
    "np.random.rand(3,2)"
   ]
  },
  {
   "cell_type": "code",
   "execution_count": 24,
   "id": "65f01ff6",
   "metadata": {},
   "outputs": [
    {
     "data": {
      "text/plain": [
       "array([[7, 5, 3, 2],\n",
       "       [3, 7, 8, 0],\n",
       "       [6, 8, 5, 5],\n",
       "       [8, 1, 2, 3],\n",
       "       [6, 0, 4, 4]])"
      ]
     },
     "execution_count": 24,
     "metadata": {},
     "output_type": "execute_result"
    }
   ],
   "source": [
    "np.random.randint(0, 11, size=(5,4))"
   ]
  },
  {
   "cell_type": "code",
   "execution_count": 25,
   "id": "ef1a52d5",
   "metadata": {},
   "outputs": [
    {
     "data": {
      "text/plain": [
       "0.5678270544054959"
      ]
     },
     "execution_count": 25,
     "metadata": {},
     "output_type": "execute_result"
    }
   ],
   "source": [
    "np.random.random_sample()"
   ]
  },
  {
   "cell_type": "code",
   "execution_count": 26,
   "id": "0ef65e5e",
   "metadata": {},
   "outputs": [
    {
     "data": {
      "text/plain": [
       "array([4, 4, 6])"
      ]
     },
     "execution_count": 26,
     "metadata": {},
     "output_type": "execute_result"
    }
   ],
   "source": [
    "np.random.randint(0, 10, 3)"
   ]
  },
  {
   "cell_type": "code",
   "execution_count": 35,
   "id": "abd947e5",
   "metadata": {},
   "outputs": [
    {
     "data": {
      "text/plain": [
       "array([-0.0099307807,  0.0705861654, -0.0338680624, -0.1737589715,\n",
       "       -0.2335570877, -0.0710901359, -0.2113186047, -0.0501441779,\n",
       "        0.0281031067, -0.099074311 ])"
      ]
     },
     "execution_count": 35,
     "metadata": {},
     "output_type": "execute_result"
    }
   ],
   "source": [
    "mu, sigma = 0, 0.1\n",
    "np.random.normal(mu, sigma, 10)"
   ]
  },
  {
   "cell_type": "code",
   "execution_count": 38,
   "id": "a410e98a",
   "metadata": {},
   "outputs": [],
   "source": [
    "np.set_printoptions(precision=3)"
   ]
  },
  {
   "cell_type": "code",
   "execution_count": 39,
   "id": "5be2b0a8",
   "metadata": {},
   "outputs": [
    {
     "data": {
      "text/plain": [
       "array([ 0.042, -0.073, -0.005, -0.127, -0.078,  0.006,  0.163,  0.024,\n",
       "       -0.097, -0.113])"
      ]
     },
     "execution_count": 39,
     "metadata": {},
     "output_type": "execute_result"
    }
   ],
   "source": [
    "mu, sigma = 0, 0.1\n",
    "np.random.normal(mu, sigma, 10)"
   ]
  },
  {
   "cell_type": "markdown",
   "id": "633aee06",
   "metadata": {},
   "source": [
    "洗牌"
   ]
  },
  {
   "cell_type": "code",
   "execution_count": 42,
   "id": "c8367b4f",
   "metadata": {},
   "outputs": [
    {
     "data": {
      "text/plain": [
       "array([0, 1, 2, 3, 4, 5, 6, 7, 8, 9])"
      ]
     },
     "execution_count": 42,
     "metadata": {},
     "output_type": "execute_result"
    }
   ],
   "source": [
    "hao_array = np.arange(10)\n",
    "hao_array"
   ]
  },
  {
   "cell_type": "code",
   "execution_count": 43,
   "id": "51c38a55",
   "metadata": {},
   "outputs": [
    {
     "data": {
      "text/plain": [
       "array([0, 3, 5, 4, 9, 6, 2, 8, 7, 1])"
      ]
     },
     "execution_count": 43,
     "metadata": {},
     "output_type": "execute_result"
    }
   ],
   "source": [
    "np.random.shuffle(hao_array)\n",
    "hao_array"
   ]
  },
  {
   "cell_type": "markdown",
   "id": "5051a19f",
   "metadata": {},
   "source": [
    "随机种子"
   ]
  },
  {
   "cell_type": "code",
   "execution_count": 46,
   "id": "98ecf4c8",
   "metadata": {},
   "outputs": [],
   "source": [
    "np.random.seed(0)"
   ]
  },
  {
   "cell_type": "code",
   "execution_count": 47,
   "id": "9fd9d781",
   "metadata": {},
   "outputs": [
    {
     "data": {
      "text/plain": [
       "array([ 0.176,  0.04 ,  0.098,  0.224,  0.187, -0.098,  0.095, -0.015,\n",
       "       -0.01 ,  0.041])"
      ]
     },
     "execution_count": 47,
     "metadata": {},
     "output_type": "execute_result"
    }
   ],
   "source": [
    "mu, sigma = 0, 0.1\n",
    "np.random.normal(mu, sigma, 10)"
   ]
  },
  {
   "cell_type": "code",
   "execution_count": null,
   "id": "b455adb8",
   "metadata": {},
   "outputs": [],
   "source": []
  }
 ],
 "metadata": {
  "kernelspec": {
   "display_name": "Python 3 (ipykernel)",
   "language": "python",
   "name": "python3"
  },
  "language_info": {
   "codemirror_mode": {
    "name": "ipython",
    "version": 3
   },
   "file_extension": ".py",
   "mimetype": "text/x-python",
   "name": "python",
   "nbconvert_exporter": "python",
   "pygments_lexer": "ipython3",
   "version": "3.9.12"
  }
 },
 "nbformat": 4,
 "nbformat_minor": 5
}
