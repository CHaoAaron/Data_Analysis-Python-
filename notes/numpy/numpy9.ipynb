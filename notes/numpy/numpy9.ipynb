{
 "cells": [
  {
   "cell_type": "markdown",
   "id": "a7da4868",
   "metadata": {},
   "source": [
    "读写"
   ]
  },
  {
   "cell_type": "code",
   "execution_count": 1,
   "id": "b4749ead",
   "metadata": {},
   "outputs": [],
   "source": [
    "import numpy as np"
   ]
  },
  {
   "cell_type": "code",
   "execution_count": 2,
   "id": "7bbb6dea",
   "metadata": {},
   "outputs": [
    {
     "name": "stdout",
     "output_type": "stream",
     "text": [
      "Writing hao.txt\n"
     ]
    }
   ],
   "source": [
    "%%writefile hao.txt\n",
    "1 2 3 4 5 6\n",
    "2 3 5 8 7 9"
   ]
  },
  {
   "cell_type": "code",
   "execution_count": 4,
   "id": "4d21bbc5",
   "metadata": {},
   "outputs": [
    {
     "data": {
      "text/plain": [
       "array([[1., 2., 3., 4., 5., 6.],\n",
       "       [2., 3., 5., 8., 7., 9.]])"
      ]
     },
     "execution_count": 4,
     "metadata": {},
     "output_type": "execute_result"
    }
   ],
   "source": [
    "data = []\n",
    "with open('hao.txt') as f:\n",
    "    for line in f:\n",
    "        fileds = line.split()\n",
    "        cur_data = [float(x) for x in fileds]\n",
    "        data.append(cur_data)\n",
    "data = np.array(data)\n",
    "data"
   ]
  },
  {
   "cell_type": "code",
   "execution_count": 5,
   "id": "2502e358",
   "metadata": {},
   "outputs": [
    {
     "data": {
      "text/plain": [
       "array([[1., 2., 3., 4., 5., 6.],\n",
       "       [2., 3., 5., 8., 7., 9.]])"
      ]
     },
     "execution_count": 5,
     "metadata": {},
     "output_type": "execute_result"
    }
   ],
   "source": [
    "data = np.loadtxt('hao.txt')\n",
    "data"
   ]
  },
  {
   "cell_type": "code",
   "execution_count": 6,
   "id": "7e8b9022",
   "metadata": {},
   "outputs": [
    {
     "name": "stdout",
     "output_type": "stream",
     "text": [
      "Writing hao1.txt\n"
     ]
    }
   ],
   "source": [
    "%%writefile hao1.txt\n",
    "1,2,3,4,5,6\n",
    "2,3,5,8,7,9"
   ]
  },
  {
   "cell_type": "code",
   "execution_count": 8,
   "id": "1b8a77ab",
   "metadata": {},
   "outputs": [
    {
     "data": {
      "text/plain": [
       "array([[1., 2., 3., 4., 5., 6.],\n",
       "       [2., 3., 5., 8., 7., 9.]])"
      ]
     },
     "execution_count": 8,
     "metadata": {},
     "output_type": "execute_result"
    }
   ],
   "source": [
    "data = np.loadtxt('hao1.txt', delimiter=',')\n",
    "data"
   ]
  },
  {
   "cell_type": "code",
   "execution_count": 9,
   "id": "c7bb030a",
   "metadata": {},
   "outputs": [
    {
     "name": "stdout",
     "output_type": "stream",
     "text": [
      "Writing hao2.txt\n"
     ]
    }
   ],
   "source": [
    "%%writefile hao2.txt\n",
    "x,y,z,w,a,b\n",
    "1 2 3 4 5 6\n",
    "2 3 5 8 7 9"
   ]
  },
  {
   "cell_type": "code",
   "execution_count": 10,
   "id": "f44685ad",
   "metadata": {},
   "outputs": [
    {
     "data": {
      "text/plain": [
       "array([[1., 2., 3., 4., 5., 6.],\n",
       "       [2., 3., 5., 8., 7., 9.]])"
      ]
     },
     "execution_count": 10,
     "metadata": {},
     "output_type": "execute_result"
    }
   ],
   "source": [
    "data = np.loadtxt('hao2.txt', skiprows=1)\n",
    "data"
   ]
  },
  {
   "cell_type": "markdown",
   "id": "e36afd20",
   "metadata": {},
   "source": [
    "hao.txt：路径最好放到和代码一起\n",
    "skiprows：去掉几行\n",
    "delimiter：分隔符\n",
    "usecols：指定使用哪几行"
   ]
  },
  {
   "cell_type": "code",
   "execution_count": 11,
   "id": "d067937c",
   "metadata": {},
   "outputs": [],
   "source": [
    "hao_array = np.array([[1,2,3],\n",
    "                      [4,5,6]])\n"
   ]
  },
  {
   "cell_type": "code",
   "execution_count": 12,
   "id": "7d66301f",
   "metadata": {},
   "outputs": [],
   "source": [
    "np.savetxt('hao3.txt', hao_array)"
   ]
  },
  {
   "cell_type": "code",
   "execution_count": 14,
   "id": "983e9707",
   "metadata": {},
   "outputs": [],
   "source": [
    "np.savetxt('hao3.txt', hao_array, fmt='%d')"
   ]
  },
  {
   "cell_type": "code",
   "execution_count": 15,
   "id": "1bd876e2",
   "metadata": {},
   "outputs": [],
   "source": [
    "np.savetxt('hao3.txt', hao_array, fmt='%d', delimiter=',')"
   ]
  },
  {
   "cell_type": "code",
   "execution_count": 16,
   "id": "4b7411a8",
   "metadata": {},
   "outputs": [],
   "source": [
    "np.savetxt('hao3.txt', hao_array, fmt='%.2f', delimiter=',')"
   ]
  },
  {
   "cell_type": "markdown",
   "id": "b0396b4d",
   "metadata": {},
   "source": [
    "读写array结构"
   ]
  },
  {
   "cell_type": "code",
   "execution_count": 18,
   "id": "bddc70e0",
   "metadata": {},
   "outputs": [],
   "source": [
    "hao_array = np.array([[1,2,3],\n",
    "                      [4,5,6]])\n",
    "np.save('hao_array.npy', hao_array)"
   ]
  },
  {
   "cell_type": "code",
   "execution_count": 21,
   "id": "43a46f6a",
   "metadata": {},
   "outputs": [
    {
     "data": {
      "text/plain": [
       "array([[1, 2, 3],\n",
       "       [4, 5, 6]])"
      ]
     },
     "execution_count": 21,
     "metadata": {},
     "output_type": "execute_result"
    }
   ],
   "source": [
    "hao = np.load('hao_array.npy')\n",
    "hao"
   ]
  },
  {
   "cell_type": "code",
   "execution_count": 23,
   "id": "b3c19f6d",
   "metadata": {},
   "outputs": [
    {
     "data": {
      "text/plain": [
       "array([0, 1, 2, 3, 4, 5, 6, 7, 8, 9])"
      ]
     },
     "execution_count": 23,
     "metadata": {},
     "output_type": "execute_result"
    }
   ],
   "source": [
    "hao_array2 = np.arange(10)\n",
    "hao_array2"
   ]
  },
  {
   "cell_type": "code",
   "execution_count": 42,
   "id": "7b578a08",
   "metadata": {},
   "outputs": [],
   "source": [
    "np.savez('hao.npz', a=hao_array, b=hao_array2)"
   ]
  },
  {
   "cell_type": "code",
   "execution_count": 46,
   "id": "917dd7a0",
   "metadata": {},
   "outputs": [],
   "source": [
    "data = np.load('hao.npz')"
   ]
  },
  {
   "cell_type": "code",
   "execution_count": 50,
   "id": "efaee65b",
   "metadata": {},
   "outputs": [
    {
     "data": {
      "text/plain": [
       "['a', 'b']"
      ]
     },
     "execution_count": 50,
     "metadata": {},
     "output_type": "execute_result"
    }
   ],
   "source": [
    "list(data.keys())"
   ]
  },
  {
   "cell_type": "code",
   "execution_count": 40,
   "id": "1b354076",
   "metadata": {},
   "outputs": [
    {
     "data": {
      "text/plain": [
       "array([[1, 2, 3],\n",
       "       [4, 5, 6]])"
      ]
     },
     "execution_count": 40,
     "metadata": {},
     "output_type": "execute_result"
    }
   ],
   "source": [
    "data['a']"
   ]
  },
  {
   "cell_type": "code",
   "execution_count": 41,
   "id": "ba4c15f4",
   "metadata": {},
   "outputs": [
    {
     "data": {
      "text/plain": [
       "array([0, 1, 2, 3, 4, 5, 6, 7, 8, 9])"
      ]
     },
     "execution_count": 41,
     "metadata": {},
     "output_type": "execute_result"
    }
   ],
   "source": [
    "data['b']"
   ]
  },
  {
   "cell_type": "code",
   "execution_count": null,
   "id": "cd1897d2",
   "metadata": {},
   "outputs": [],
   "source": []
  }
 ],
 "metadata": {
  "kernelspec": {
   "display_name": "Python 3 (ipykernel)",
   "language": "python",
   "name": "python3"
  },
  "language_info": {
   "codemirror_mode": {
    "name": "ipython",
    "version": 3
   },
   "file_extension": ".py",
   "mimetype": "text/x-python",
   "name": "python",
   "nbconvert_exporter": "python",
   "pygments_lexer": "ipython3",
   "version": "3.9.12"
  }
 },
 "nbformat": 4,
 "nbformat_minor": 5
}
