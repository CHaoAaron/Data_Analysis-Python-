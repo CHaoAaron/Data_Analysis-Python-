{
 "cells": [
  {
   "cell_type": "code",
   "execution_count": 79,
   "id": "919accf3",
   "metadata": {},
   "outputs": [],
   "source": [
    "import numpy as np\n",
    "import sys"
   ]
  },
  {
   "cell_type": "code",
   "execution_count": 8,
   "id": "5d561082",
   "metadata": {},
   "outputs": [
    {
     "name": "stdout",
     "output_type": "stream",
     "text": [
      "1.21.5\n"
     ]
    }
   ],
   "source": [
    "print(np.__version__)"
   ]
  },
  {
   "cell_type": "markdown",
   "id": "a3f57a98",
   "metadata": {},
   "source": [
    "构造一个全零的矩阵，并打印其占用内存的大小"
   ]
  },
  {
   "cell_type": "code",
   "execution_count": 14,
   "id": "79598ac5",
   "metadata": {},
   "outputs": [
    {
     "name": "stdout",
     "output_type": "stream",
     "text": [
      "200 bytes\n"
     ]
    }
   ],
   "source": [
    "zs = np.zeros((5,5))\n",
    "zs\n",
    "print('%d bytes' %(zs.size * zs.itemsize))"
   ]
  },
  {
   "cell_type": "markdown",
   "id": "bb6bdeeb",
   "metadata": {},
   "source": [
    "打印一个函数的帮助文档，比如numpy.add"
   ]
  },
  {
   "cell_type": "code",
   "execution_count": 16,
   "id": "b666099a",
   "metadata": {},
   "outputs": [
    {
     "name": "stdout",
     "output_type": "stream",
     "text": [
      "Help on ufunc:\n",
      "\n",
      "add = <ufunc 'add'>\n",
      "    add(x1, x2, /, out=None, *, where=True, casting='same_kind', order='K', dtype=None, subok=True[, signature, extobj])\n",
      "    \n",
      "    Add arguments element-wise.\n",
      "    \n",
      "    Parameters\n",
      "    ----------\n",
      "    x1, x2 : array_like\n",
      "        The arrays to be added.\n",
      "        If ``x1.shape != x2.shape``, they must be broadcastable to a common\n",
      "        shape (which becomes the shape of the output).\n",
      "    out : ndarray, None, or tuple of ndarray and None, optional\n",
      "        A location into which the result is stored. If provided, it must have\n",
      "        a shape that the inputs broadcast to. If not provided or None,\n",
      "        a freshly-allocated array is returned. A tuple (possible only as a\n",
      "        keyword argument) must have length equal to the number of outputs.\n",
      "    where : array_like, optional\n",
      "        This condition is broadcast over the input. At locations where the\n",
      "        condition is True, the `out` array will be set to the ufunc result.\n",
      "        Elsewhere, the `out` array will retain its original value.\n",
      "        Note that if an uninitialized `out` array is created via the default\n",
      "        ``out=None``, locations within it where the condition is False will\n",
      "        remain uninitialized.\n",
      "    **kwargs\n",
      "        For other keyword-only arguments, see the\n",
      "        :ref:`ufunc docs <ufuncs.kwargs>`.\n",
      "    \n",
      "    Returns\n",
      "    -------\n",
      "    add : ndarray or scalar\n",
      "        The sum of `x1` and `x2`, element-wise.\n",
      "        This is a scalar if both `x1` and `x2` are scalars.\n",
      "    \n",
      "    Notes\n",
      "    -----\n",
      "    Equivalent to `x1` + `x2` in terms of array broadcasting.\n",
      "    \n",
      "    Examples\n",
      "    --------\n",
      "    >>> np.add(1.0, 4.0)\n",
      "    5.0\n",
      "    >>> x1 = np.arange(9.0).reshape((3, 3))\n",
      "    >>> x2 = np.arange(3.0)\n",
      "    >>> np.add(x1, x2)\n",
      "    array([[  0.,   2.,   4.],\n",
      "           [  3.,   5.,   7.],\n",
      "           [  6.,   8.,  10.]])\n",
      "    \n",
      "    The ``+`` operator can be used as a shorthand for ``np.add`` on ndarrays.\n",
      "    \n",
      "    >>> x1 = np.arange(9.0).reshape((3, 3))\n",
      "    >>> x2 = np.arange(3.0)\n",
      "    >>> x1 + x2\n",
      "    array([[ 0.,  2.,  4.],\n",
      "           [ 3.,  5.,  7.],\n",
      "           [ 6.,  8., 10.]])\n",
      "\n",
      "None\n"
     ]
    }
   ],
   "source": [
    "print(help(np.add))\n",
    "# print(help(np.info(np.add)))"
   ]
  },
  {
   "cell_type": "markdown",
   "id": "af0e4863",
   "metadata": {},
   "source": [
    "创建一个10-49的数组，并将其倒序排列"
   ]
  },
  {
   "cell_type": "code",
   "execution_count": 19,
   "id": "5cff0fc0",
   "metadata": {},
   "outputs": [
    {
     "data": {
      "text/plain": [
       "array([49, 48, 47, 46, 45, 44, 43, 42, 41, 40, 39, 38, 37, 36, 35, 34, 33,\n",
       "       32, 31, 30, 29, 28, 27, 26, 25, 24, 23, 22, 21, 20, 19, 18, 17, 16,\n",
       "       15, 14, 13, 12, 11, 10])"
      ]
     },
     "execution_count": 19,
     "metadata": {},
     "output_type": "execute_result"
    }
   ],
   "source": [
    "ttfn = np.arange(10,50,1)\n",
    "ttfn = ttfn[::-1]\n",
    "ttfn"
   ]
  },
  {
   "cell_type": "markdown",
   "id": "92525df0",
   "metadata": {},
   "source": [
    "找到一个数组中不为0的索引"
   ]
  },
  {
   "cell_type": "code",
   "execution_count": 21,
   "id": "d623ac05",
   "metadata": {},
   "outputs": [
    {
     "data": {
      "text/plain": [
       "(array([0, 1, 2, 3, 4, 6, 8], dtype=int64),)"
      ]
     },
     "execution_count": 21,
     "metadata": {},
     "output_type": "execute_result"
    }
   ],
   "source": [
    "np.nonzero([1,2,3,4,5,0,2,0,3,0])"
   ]
  },
  {
   "cell_type": "markdown",
   "id": "a3cdd6a0",
   "metadata": {},
   "source": [
    "随机构造一个3*3的矩阵，并打印其中最大与最小值"
   ]
  },
  {
   "cell_type": "code",
   "execution_count": 50,
   "id": "a6fb3325",
   "metadata": {},
   "outputs": [
    {
     "name": "stdout",
     "output_type": "stream",
     "text": [
      "min:0.36962067919148867 max:0.9889910862903926\n"
     ]
    }
   ],
   "source": [
    "tbt_array = np.random.random((3,3))\n",
    "tbt_array\n",
    "print(\"min:{} max:{}\".format(tbt_array.min(),tbt_array.max()))"
   ]
  },
  {
   "cell_type": "markdown",
   "id": "7e55e522",
   "metadata": {},
   "source": [
    "构造一个5*5的矩阵，令其值为1，并在最外层加上一圈0"
   ]
  },
  {
   "cell_type": "code",
   "execution_count": 52,
   "id": "5634bdc7",
   "metadata": {},
   "outputs": [
    {
     "data": {
      "text/plain": [
       "array([[0., 0., 0., 0., 0., 0., 0.],\n",
       "       [0., 1., 1., 1., 1., 1., 0.],\n",
       "       [0., 1., 1., 1., 1., 1., 0.],\n",
       "       [0., 1., 1., 1., 1., 1., 0.],\n",
       "       [0., 1., 1., 1., 1., 1., 0.],\n",
       "       [0., 1., 1., 1., 1., 1., 0.],\n",
       "       [0., 0., 0., 0., 0., 0., 0.]])"
      ]
     },
     "execution_count": 52,
     "metadata": {},
     "output_type": "execute_result"
    }
   ],
   "source": [
    "os_array = np.ones((5,5))\n",
    "os_array = np.pad(os_array, pad_width=1, mode='constant', constant_values=0)\n",
    "os_array"
   ]
  },
  {
   "cell_type": "code",
   "execution_count": 53,
   "id": "e427feb8",
   "metadata": {},
   "outputs": [
    {
     "name": "stdout",
     "output_type": "stream",
     "text": [
      "Help on function pad in module numpy:\n",
      "\n",
      "pad(array, pad_width, mode='constant', **kwargs)\n",
      "    Pad an array.\n",
      "    \n",
      "    Parameters\n",
      "    ----------\n",
      "    array : array_like of rank N\n",
      "        The array to pad.\n",
      "    pad_width : {sequence, array_like, int}\n",
      "        Number of values padded to the edges of each axis.\n",
      "        ((before_1, after_1), ... (before_N, after_N)) unique pad widths\n",
      "        for each axis.\n",
      "        ((before, after),) yields same before and after pad for each axis.\n",
      "        (pad,) or int is a shortcut for before = after = pad width for all\n",
      "        axes.\n",
      "    mode : str or function, optional\n",
      "        One of the following string values or a user supplied function.\n",
      "    \n",
      "        'constant' (default)\n",
      "            Pads with a constant value.\n",
      "        'edge'\n",
      "            Pads with the edge values of array.\n",
      "        'linear_ramp'\n",
      "            Pads with the linear ramp between end_value and the\n",
      "            array edge value.\n",
      "        'maximum'\n",
      "            Pads with the maximum value of all or part of the\n",
      "            vector along each axis.\n",
      "        'mean'\n",
      "            Pads with the mean value of all or part of the\n",
      "            vector along each axis.\n",
      "        'median'\n",
      "            Pads with the median value of all or part of the\n",
      "            vector along each axis.\n",
      "        'minimum'\n",
      "            Pads with the minimum value of all or part of the\n",
      "            vector along each axis.\n",
      "        'reflect'\n",
      "            Pads with the reflection of the vector mirrored on\n",
      "            the first and last values of the vector along each\n",
      "            axis.\n",
      "        'symmetric'\n",
      "            Pads with the reflection of the vector mirrored\n",
      "            along the edge of the array.\n",
      "        'wrap'\n",
      "            Pads with the wrap of the vector along the axis.\n",
      "            The first values are used to pad the end and the\n",
      "            end values are used to pad the beginning.\n",
      "        'empty'\n",
      "            Pads with undefined values.\n",
      "    \n",
      "            .. versionadded:: 1.17\n",
      "    \n",
      "        <function>\n",
      "            Padding function, see Notes.\n",
      "    stat_length : sequence or int, optional\n",
      "        Used in 'maximum', 'mean', 'median', and 'minimum'.  Number of\n",
      "        values at edge of each axis used to calculate the statistic value.\n",
      "    \n",
      "        ((before_1, after_1), ... (before_N, after_N)) unique statistic\n",
      "        lengths for each axis.\n",
      "    \n",
      "        ((before, after),) yields same before and after statistic lengths\n",
      "        for each axis.\n",
      "    \n",
      "        (stat_length,) or int is a shortcut for before = after = statistic\n",
      "        length for all axes.\n",
      "    \n",
      "        Default is ``None``, to use the entire axis.\n",
      "    constant_values : sequence or scalar, optional\n",
      "        Used in 'constant'.  The values to set the padded values for each\n",
      "        axis.\n",
      "    \n",
      "        ``((before_1, after_1), ... (before_N, after_N))`` unique pad constants\n",
      "        for each axis.\n",
      "    \n",
      "        ``((before, after),)`` yields same before and after constants for each\n",
      "        axis.\n",
      "    \n",
      "        ``(constant,)`` or ``constant`` is a shortcut for ``before = after = constant`` for\n",
      "        all axes.\n",
      "    \n",
      "        Default is 0.\n",
      "    end_values : sequence or scalar, optional\n",
      "        Used in 'linear_ramp'.  The values used for the ending value of the\n",
      "        linear_ramp and that will form the edge of the padded array.\n",
      "    \n",
      "        ``((before_1, after_1), ... (before_N, after_N))`` unique end values\n",
      "        for each axis.\n",
      "    \n",
      "        ``((before, after),)`` yields same before and after end values for each\n",
      "        axis.\n",
      "    \n",
      "        ``(constant,)`` or ``constant`` is a shortcut for ``before = after = constant`` for\n",
      "        all axes.\n",
      "    \n",
      "        Default is 0.\n",
      "    reflect_type : {'even', 'odd'}, optional\n",
      "        Used in 'reflect', and 'symmetric'.  The 'even' style is the\n",
      "        default with an unaltered reflection around the edge value.  For\n",
      "        the 'odd' style, the extended part of the array is created by\n",
      "        subtracting the reflected values from two times the edge value.\n",
      "    \n",
      "    Returns\n",
      "    -------\n",
      "    pad : ndarray\n",
      "        Padded array of rank equal to `array` with shape increased\n",
      "        according to `pad_width`.\n",
      "    \n",
      "    Notes\n",
      "    -----\n",
      "    .. versionadded:: 1.7.0\n",
      "    \n",
      "    For an array with rank greater than 1, some of the padding of later\n",
      "    axes is calculated from padding of previous axes.  This is easiest to\n",
      "    think about with a rank 2 array where the corners of the padded array\n",
      "    are calculated by using padded values from the first axis.\n",
      "    \n",
      "    The padding function, if used, should modify a rank 1 array in-place. It\n",
      "    has the following signature::\n",
      "    \n",
      "        padding_func(vector, iaxis_pad_width, iaxis, kwargs)\n",
      "    \n",
      "    where\n",
      "    \n",
      "        vector : ndarray\n",
      "            A rank 1 array already padded with zeros.  Padded values are\n",
      "            vector[:iaxis_pad_width[0]] and vector[-iaxis_pad_width[1]:].\n",
      "        iaxis_pad_width : tuple\n",
      "            A 2-tuple of ints, iaxis_pad_width[0] represents the number of\n",
      "            values padded at the beginning of vector where\n",
      "            iaxis_pad_width[1] represents the number of values padded at\n",
      "            the end of vector.\n",
      "        iaxis : int\n",
      "            The axis currently being calculated.\n",
      "        kwargs : dict\n",
      "            Any keyword arguments the function requires.\n",
      "    \n",
      "    Examples\n",
      "    --------\n",
      "    >>> a = [1, 2, 3, 4, 5]\n",
      "    >>> np.pad(a, (2, 3), 'constant', constant_values=(4, 6))\n",
      "    array([4, 4, 1, ..., 6, 6, 6])\n",
      "    \n",
      "    >>> np.pad(a, (2, 3), 'edge')\n",
      "    array([1, 1, 1, ..., 5, 5, 5])\n",
      "    \n",
      "    >>> np.pad(a, (2, 3), 'linear_ramp', end_values=(5, -4))\n",
      "    array([ 5,  3,  1,  2,  3,  4,  5,  2, -1, -4])\n",
      "    \n",
      "    >>> np.pad(a, (2,), 'maximum')\n",
      "    array([5, 5, 1, 2, 3, 4, 5, 5, 5])\n",
      "    \n",
      "    >>> np.pad(a, (2,), 'mean')\n",
      "    array([3, 3, 1, 2, 3, 4, 5, 3, 3])\n",
      "    \n",
      "    >>> np.pad(a, (2,), 'median')\n",
      "    array([3, 3, 1, 2, 3, 4, 5, 3, 3])\n",
      "    \n",
      "    >>> a = [[1, 2], [3, 4]]\n",
      "    >>> np.pad(a, ((3, 2), (2, 3)), 'minimum')\n",
      "    array([[1, 1, 1, 2, 1, 1, 1],\n",
      "           [1, 1, 1, 2, 1, 1, 1],\n",
      "           [1, 1, 1, 2, 1, 1, 1],\n",
      "           [1, 1, 1, 2, 1, 1, 1],\n",
      "           [3, 3, 3, 4, 3, 3, 3],\n",
      "           [1, 1, 1, 2, 1, 1, 1],\n",
      "           [1, 1, 1, 2, 1, 1, 1]])\n",
      "    \n",
      "    >>> a = [1, 2, 3, 4, 5]\n",
      "    >>> np.pad(a, (2, 3), 'reflect')\n",
      "    array([3, 2, 1, 2, 3, 4, 5, 4, 3, 2])\n",
      "    \n",
      "    >>> np.pad(a, (2, 3), 'reflect', reflect_type='odd')\n",
      "    array([-1,  0,  1,  2,  3,  4,  5,  6,  7,  8])\n",
      "    \n",
      "    >>> np.pad(a, (2, 3), 'symmetric')\n",
      "    array([2, 1, 1, 2, 3, 4, 5, 5, 4, 3])\n",
      "    \n",
      "    >>> np.pad(a, (2, 3), 'symmetric', reflect_type='odd')\n",
      "    array([0, 1, 1, 2, 3, 4, 5, 5, 6, 7])\n",
      "    \n",
      "    >>> np.pad(a, (2, 3), 'wrap')\n",
      "    array([4, 5, 1, 2, 3, 4, 5, 1, 2, 3])\n",
      "    \n",
      "    >>> def pad_with(vector, pad_width, iaxis, kwargs):\n",
      "    ...     pad_value = kwargs.get('padder', 10)\n",
      "    ...     vector[:pad_width[0]] = pad_value\n",
      "    ...     vector[-pad_width[1]:] = pad_value\n",
      "    >>> a = np.arange(6)\n",
      "    >>> a = a.reshape((2, 3))\n",
      "    >>> np.pad(a, 2, pad_with)\n",
      "    array([[10, 10, 10, 10, 10, 10, 10],\n",
      "           [10, 10, 10, 10, 10, 10, 10],\n",
      "           [10, 10,  0,  1,  2, 10, 10],\n",
      "           [10, 10,  3,  4,  5, 10, 10],\n",
      "           [10, 10, 10, 10, 10, 10, 10],\n",
      "           [10, 10, 10, 10, 10, 10, 10]])\n",
      "    >>> np.pad(a, 2, pad_with, padder=100)\n",
      "    array([[100, 100, 100, 100, 100, 100, 100],\n",
      "           [100, 100, 100, 100, 100, 100, 100],\n",
      "           [100, 100,   0,   1,   2, 100, 100],\n",
      "           [100, 100,   3,   4,   5, 100, 100],\n",
      "           [100, 100, 100, 100, 100, 100, 100],\n",
      "           [100, 100, 100, 100, 100, 100, 100]])\n",
      "\n",
      "None\n"
     ]
    }
   ],
   "source": [
    "print(help(np.pad))"
   ]
  },
  {
   "cell_type": "markdown",
   "id": "28a1f8e8",
   "metadata": {},
   "source": [
    "构建一个shape为（6，7，8）的矩阵，并找到第100个元素的索引值"
   ]
  },
  {
   "cell_type": "code",
   "execution_count": 55,
   "id": "e4e67585",
   "metadata": {},
   "outputs": [
    {
     "data": {
      "text/plain": [
       "(1, 5, 4)"
      ]
     },
     "execution_count": 55,
     "metadata": {},
     "output_type": "execute_result"
    }
   ],
   "source": [
    "np.unravel_index(100, (6,7,8))"
   ]
  },
  {
   "cell_type": "markdown",
   "id": "1e303b72",
   "metadata": {},
   "source": [
    "对一个5*5的矩阵做归一化操作"
   ]
  },
  {
   "cell_type": "code",
   "execution_count": 60,
   "id": "f1ca28f6",
   "metadata": {},
   "outputs": [
    {
     "data": {
      "text/plain": [
       "array([[0.68231921, 0.53814802, 0.33212068, 0.08917249, 0.65340619],\n",
       "       [0.10867184, 0.14961448, 0.59481098, 0.6131952 , 0.92664345],\n",
       "       [0.37914142, 0.83074912, 0.49916664, 0.92268898, 0.74169545],\n",
       "       [0.        , 0.58463227, 0.4193446 , 0.1813856 , 0.68914595],\n",
       "       [0.16087985, 0.6293396 , 0.38372573, 0.0632002 , 1.        ]])"
      ]
     },
     "execution_count": 60,
     "metadata": {},
     "output_type": "execute_result"
    }
   ],
   "source": [
    "hao_array = np.random.random((5,5))\n",
    "hao_max = hao_array.max()\n",
    "hao_min = hao_array.min()\n",
    "hao_array = (hao_array - hao_min)/(hao_max - hao_min)\n",
    "hao_array"
   ]
  },
  {
   "cell_type": "markdown",
   "id": "d1053e8f",
   "metadata": {},
   "source": [
    "找到两个数组中相同的值"
   ]
  },
  {
   "cell_type": "code",
   "execution_count": 65,
   "id": "73c7c24a",
   "metadata": {},
   "outputs": [
    {
     "name": "stdout",
     "output_type": "stream",
     "text": [
      "[8 2 0 0 1 6 4 0 7 3] [8 7 3 1 8 8 5 9 4 2]\n",
      "[1 2 3 4 7 8]\n"
     ]
    }
   ],
   "source": [
    "z1 = np.random.randint(0,10,10)\n",
    "z2 = np.random.randint(0,10,10)\n",
    "print(z1, z2)\n",
    "print(np.intersect1d(z1,z2))"
   ]
  },
  {
   "cell_type": "markdown",
   "id": "433eab66",
   "metadata": {},
   "source": [
    "得到今天 明天 昨天的日期"
   ]
  },
  {
   "cell_type": "code",
   "execution_count": 66,
   "id": "6b9362ce",
   "metadata": {},
   "outputs": [
    {
     "name": "stdout",
     "output_type": "stream",
     "text": [
      "2022-08-10 2022-08-11 2022-08-12\n"
     ]
    }
   ],
   "source": [
    "yesterday = np.datetime64('today', 'D') - np.timedelta64(1, 'D')\n",
    "today = np.datetime64('today', 'D')\n",
    "tomorrow = np.datetime64('today', 'D') + np.timedelta64(1, 'D')\n",
    "print(yesterday, today, tomorrow)"
   ]
  },
  {
   "cell_type": "markdown",
   "id": "e41fa8c9",
   "metadata": {},
   "source": [
    "得到一个月的所有天"
   ]
  },
  {
   "cell_type": "code",
   "execution_count": 67,
   "id": "8fc0f5e9",
   "metadata": {},
   "outputs": [
    {
     "data": {
      "text/plain": [
       "array(['2022-08-01', '2022-08-02', '2022-08-03', '2022-08-04',\n",
       "       '2022-08-05', '2022-08-06', '2022-08-07', '2022-08-08',\n",
       "       '2022-08-09', '2022-08-10', '2022-08-11', '2022-08-12',\n",
       "       '2022-08-13', '2022-08-14', '2022-08-15', '2022-08-16',\n",
       "       '2022-08-17', '2022-08-18', '2022-08-19', '2022-08-20',\n",
       "       '2022-08-21', '2022-08-22', '2022-08-23', '2022-08-24',\n",
       "       '2022-08-25', '2022-08-26', '2022-08-27', '2022-08-28',\n",
       "       '2022-08-29', '2022-08-30', '2022-08-31'], dtype='datetime64[D]')"
      ]
     },
     "execution_count": 67,
     "metadata": {},
     "output_type": "execute_result"
    }
   ],
   "source": [
    "np.arange('2022-08','2022-09', dtype='datetime64[D]')"
   ]
  },
  {
   "cell_type": "markdown",
   "id": "e601493d",
   "metadata": {},
   "source": [
    "得到一个数的整数部分"
   ]
  },
  {
   "cell_type": "code",
   "execution_count": 69,
   "id": "a9ebb890",
   "metadata": {},
   "outputs": [
    {
     "data": {
      "text/plain": [
       "array([2., 4., 6., 4., 0., 6., 0., 4., 6., 0.])"
      ]
     },
     "execution_count": 69,
     "metadata": {},
     "output_type": "execute_result"
    }
   ],
   "source": [
    "z = np.random.uniform(0,10,10)\n",
    "np.floor(z)"
   ]
  },
  {
   "cell_type": "markdown",
   "id": "ce9f6b57",
   "metadata": {},
   "source": [
    "构造一个数组，让他不能被改变"
   ]
  },
  {
   "cell_type": "code",
   "execution_count": 73,
   "id": "c4940a63",
   "metadata": {},
   "outputs": [
    {
     "ename": "ValueError",
     "evalue": "assignment destination is read-only",
     "output_type": "error",
     "traceback": [
      "\u001b[1;31m---------------------------------------------------------------------------\u001b[0m",
      "\u001b[1;31mValueError\u001b[0m                                Traceback (most recent call last)",
      "Input \u001b[1;32mIn [73]\u001b[0m, in \u001b[0;36m<cell line: 4>\u001b[1;34m()\u001b[0m\n\u001b[0;32m      2\u001b[0m z\u001b[38;5;241m.\u001b[39mflags\u001b[38;5;241m.\u001b[39mwriteable \u001b[38;5;241m=\u001b[39m \u001b[38;5;28;01mFalse\u001b[39;00m\n\u001b[0;32m      3\u001b[0m z\n\u001b[1;32m----> 4\u001b[0m z[\u001b[38;5;241m0\u001b[39m] \u001b[38;5;241m=\u001b[39m \u001b[38;5;241m1\u001b[39m\n",
      "\u001b[1;31mValueError\u001b[0m: assignment destination is read-only"
     ]
    }
   ],
   "source": [
    "z = np.zeros(5)\n",
    "z.flags.writeable = False\n",
    "z\n",
    "z[0] = 1"
   ]
  },
  {
   "cell_type": "markdown",
   "id": "36b957f6",
   "metadata": {},
   "source": [
    "打印大量数据的部分值，全部值"
   ]
  },
  {
   "cell_type": "code",
   "execution_count": 74,
   "id": "51c2681a",
   "metadata": {},
   "outputs": [
    {
     "data": {
      "text/plain": [
       "array([[0., 0., 0., ..., 0., 0., 0.],\n",
       "       [0., 0., 0., ..., 0., 0., 0.],\n",
       "       [0., 0., 0., ..., 0., 0., 0.],\n",
       "       ...,\n",
       "       [0., 0., 0., ..., 0., 0., 0.],\n",
       "       [0., 0., 0., ..., 0., 0., 0.],\n",
       "       [0., 0., 0., ..., 0., 0., 0.]])"
      ]
     },
     "execution_count": 74,
     "metadata": {},
     "output_type": "execute_result"
    }
   ],
   "source": [
    "np.set_printoptions(threshold=5)\n",
    "z = np.zeros((15,15))\n",
    "z"
   ]
  },
  {
   "cell_type": "code",
   "execution_count": 81,
   "id": "6533b2ae",
   "metadata": {},
   "outputs": [
    {
     "data": {
      "text/plain": [
       "array([[0., 0., 0., 0., 0., 0., 0., 0., 0., 0., 0., 0., 0., 0., 0.],\n",
       "       [0., 0., 0., 0., 0., 0., 0., 0., 0., 0., 0., 0., 0., 0., 0.],\n",
       "       [0., 0., 0., 0., 0., 0., 0., 0., 0., 0., 0., 0., 0., 0., 0.],\n",
       "       [0., 0., 0., 0., 0., 0., 0., 0., 0., 0., 0., 0., 0., 0., 0.],\n",
       "       [0., 0., 0., 0., 0., 0., 0., 0., 0., 0., 0., 0., 0., 0., 0.],\n",
       "       [0., 0., 0., 0., 0., 0., 0., 0., 0., 0., 0., 0., 0., 0., 0.],\n",
       "       [0., 0., 0., 0., 0., 0., 0., 0., 0., 0., 0., 0., 0., 0., 0.],\n",
       "       [0., 0., 0., 0., 0., 0., 0., 0., 0., 0., 0., 0., 0., 0., 0.],\n",
       "       [0., 0., 0., 0., 0., 0., 0., 0., 0., 0., 0., 0., 0., 0., 0.],\n",
       "       [0., 0., 0., 0., 0., 0., 0., 0., 0., 0., 0., 0., 0., 0., 0.],\n",
       "       [0., 0., 0., 0., 0., 0., 0., 0., 0., 0., 0., 0., 0., 0., 0.],\n",
       "       [0., 0., 0., 0., 0., 0., 0., 0., 0., 0., 0., 0., 0., 0., 0.],\n",
       "       [0., 0., 0., 0., 0., 0., 0., 0., 0., 0., 0., 0., 0., 0., 0.],\n",
       "       [0., 0., 0., 0., 0., 0., 0., 0., 0., 0., 0., 0., 0., 0., 0.],\n",
       "       [0., 0., 0., 0., 0., 0., 0., 0., 0., 0., 0., 0., 0., 0., 0.]])"
      ]
     },
     "execution_count": 81,
     "metadata": {},
     "output_type": "execute_result"
    }
   ],
   "source": [
    "np.set_printoptions(threshold=sys.maxsize)\n",
    "z = np.zeros((15,15))\n",
    "z"
   ]
  },
  {
   "cell_type": "markdown",
   "id": "799f78d6",
   "metadata": {},
   "source": [
    "在一个数组中，找到最接近一个数的索引"
   ]
  },
  {
   "cell_type": "code",
   "execution_count": 84,
   "id": "1933901a",
   "metadata": {},
   "outputs": [
    {
     "name": "stdout",
     "output_type": "stream",
     "text": [
      "37.01369005773294\n",
      "37\n"
     ]
    }
   ],
   "source": [
    "z = np.arange(100)\n",
    "v = np.random.uniform(0,100)\n",
    "print(v)\n",
    "index = (np.abs(z - v)).argmin()\n",
    "print(z[index])"
   ]
  },
  {
   "cell_type": "markdown",
   "id": "f64b7537",
   "metadata": {},
   "source": [
    "32位float类型和32位int类型转换"
   ]
  },
  {
   "cell_type": "code",
   "execution_count": 87,
   "id": "c37fe4cf",
   "metadata": {},
   "outputs": [
    {
     "name": "stdout",
     "output_type": "stream",
     "text": [
      "int32\n",
      "float32\n"
     ]
    }
   ],
   "source": [
    "z = np.arange(10, dtype=np.int32)\n",
    "print(z.dtype)\n",
    "z = z.astype(np.float32)\n",
    "print(z.dtype)"
   ]
  },
  {
   "cell_type": "markdown",
   "id": "d61432b6",
   "metadata": {},
   "source": [
    "打印数组元素位置坐标与数值"
   ]
  },
  {
   "cell_type": "code",
   "execution_count": 88,
   "id": "07c96b9c",
   "metadata": {},
   "outputs": [
    {
     "name": "stdout",
     "output_type": "stream",
     "text": [
      "(0, 0) 0\n",
      "(0, 1) 1\n",
      "(0, 2) 2\n",
      "(1, 0) 3\n",
      "(1, 1) 4\n",
      "(1, 2) 5\n",
      "(2, 0) 6\n",
      "(2, 1) 7\n",
      "(2, 2) 8\n"
     ]
    }
   ],
   "source": [
    "z = np.arange(9).reshape(3,3)\n",
    "for index,value in np.ndenumerate(z):\n",
    "    print(index, value)"
   ]
  },
  {
   "cell_type": "markdown",
   "id": "17aa6cb9",
   "metadata": {},
   "source": [
    "按照数组的某一列进行排序"
   ]
  },
  {
   "cell_type": "code",
   "execution_count": 91,
   "id": "2e50a144",
   "metadata": {},
   "outputs": [
    {
     "name": "stdout",
     "output_type": "stream",
     "text": [
      "[[3 5 8]\n",
      " [6 2 7]\n",
      " [9 5 4]]\n",
      "[[6 2 7]\n",
      " [3 5 8]\n",
      " [9 5 4]]\n"
     ]
    }
   ],
   "source": [
    "z = np.random.randint(0,10,(3,3))\n",
    "print(z)\n",
    "print(z[z[:,1].argsort()])"
   ]
  },
  {
   "cell_type": "markdown",
   "id": "49e324c5",
   "metadata": {},
   "source": [
    "统计数组中每个数值出现的次数"
   ]
  },
  {
   "cell_type": "code",
   "execution_count": 92,
   "id": "989a5a9b",
   "metadata": {},
   "outputs": [
    {
     "data": {
      "text/plain": [
       "array([0, 3, 2, 2, 1, 1, 0, 0, 1], dtype=int64)"
      ]
     },
     "execution_count": 92,
     "metadata": {},
     "output_type": "execute_result"
    }
   ],
   "source": [
    "z = np.array([1,1,1,2,2,3,3,4,5,8])\n",
    "np.bincount(z)"
   ]
  },
  {
   "cell_type": "markdown",
   "id": "4db681c4",
   "metadata": {},
   "source": [
    "如何对一个四维数组的最后两位来求和"
   ]
  },
  {
   "cell_type": "code",
   "execution_count": 101,
   "id": "949fddf1",
   "metadata": {},
   "outputs": [
    {
     "name": "stdout",
     "output_type": "stream",
     "text": [
      "[[[[0 9 6 0]\n",
      "   [4 4 5 6]\n",
      "   [5 4 9 1]\n",
      "   [8 3 7 8]]\n",
      "\n",
      "  [[9 4 1 3]\n",
      "   [4 5 9 6]\n",
      "   [5 6 7 5]\n",
      "   [8 5 8 0]]\n",
      "\n",
      "  [[3 3 7 3]\n",
      "   [1 2 0 9]\n",
      "   [7 7 5 4]\n",
      "   [4 3 1 3]]\n",
      "\n",
      "  [[4 1 6 3]\n",
      "   [9 0 4 3]\n",
      "   [9 5 1 6]\n",
      "   [1 7 2 4]]]\n",
      "\n",
      "\n",
      " [[[6 7 1 1]\n",
      "   [0 9 9 2]\n",
      "   [4 8 9 3]\n",
      "   [4 5 2 6]]\n",
      "\n",
      "  [[3 7 2 0]\n",
      "   [8 0 4 8]\n",
      "   [6 3 1 9]\n",
      "   [7 7 3 9]]\n",
      "\n",
      "  [[9 1 9 3]\n",
      "   [4 8 2 7]\n",
      "   [2 8 9 9]\n",
      "   [3 6 0 1]]\n",
      "\n",
      "  [[4 8 6 8]\n",
      "   [1 0 5 5]\n",
      "   [1 8 5 9]\n",
      "   [8 9 9 0]]]\n",
      "\n",
      "\n",
      " [[[4 5 2 6]\n",
      "   [3 4 9 8]\n",
      "   [2 9 2 0]\n",
      "   [8 9 2 4]]\n",
      "\n",
      "  [[9 5 7 5]\n",
      "   [4 0 5 1]\n",
      "   [0 3 3 0]\n",
      "   [1 6 4 4]]\n",
      "\n",
      "  [[7 9 2 3]\n",
      "   [6 1 5 3]\n",
      "   [2 3 6 3]\n",
      "   [1 5 1 2]]\n",
      "\n",
      "  [[2 0 6 3]\n",
      "   [9 4 2 9]\n",
      "   [0 4 2 4]\n",
      "   [0 3 0 5]]]\n",
      "\n",
      "\n",
      " [[[4 8 4 7]\n",
      "   [3 5 1 8]\n",
      "   [0 5 0 9]\n",
      "   [2 5 1 6]]\n",
      "\n",
      "  [[7 3 8 7]\n",
      "   [3 4 8 1]\n",
      "   [7 6 5 6]\n",
      "   [2 4 5 4]]\n",
      "\n",
      "  [[7 9 5 0]\n",
      "   [4 8 6 8]\n",
      "   [2 9 7 1]\n",
      "   [5 5 3 6]]\n",
      "\n",
      "  [[4 0 9 2]\n",
      "   [3 1 2 2]\n",
      "   [2 7 9 9]\n",
      "   [2 0 6 6]]]]\n",
      "分隔********\n",
      "[[79 85 62 65]\n",
      " [76 77 81 86]\n",
      " [77 57 59 53]\n",
      " [68 80 85 64]]\n"
     ]
    }
   ],
   "source": [
    "z = np.random.randint(0,10,(4,4,4,4))\n",
    "res = z.sum(axis=(-2,-1))\n",
    "print(z)\n",
    "print(\"分隔********\")\n",
    "print(res)"
   ]
  },
  {
   "cell_type": "markdown",
   "id": "119787e5",
   "metadata": {},
   "source": [
    "交换矩阵当中的两行"
   ]
  },
  {
   "cell_type": "code",
   "execution_count": 100,
   "id": "c85bb761",
   "metadata": {},
   "outputs": [
    {
     "name": "stdout",
     "output_type": "stream",
     "text": [
      "[[ 0  1  2  3  4]\n",
      " [ 5  6  7  8  9]\n",
      " [10 11 12 13 14]\n",
      " [15 16 17 18 19]\n",
      " [20 21 22 23 24]]\n",
      "xxxxx\n",
      "[[ 5  6  7  8  9]\n",
      " [ 0  1  2  3  4]\n",
      " [10 11 12 13 14]\n",
      " [15 16 17 18 19]\n",
      " [20 21 22 23 24]]\n"
     ]
    }
   ],
   "source": [
    "z = np.arange(25).reshape(5,5)\n",
    "print(z)\n",
    "print('xxxxx')\n",
    "z[[0,1]] = z[[1,0]]\n",
    "print(z)"
   ]
  },
  {
   "cell_type": "markdown",
   "id": "12ca86e5",
   "metadata": {},
   "source": [
    "找到一个数组当中最常出现的数字"
   ]
  },
  {
   "cell_type": "code",
   "execution_count": 102,
   "id": "6ed4d6d2",
   "metadata": {},
   "outputs": [
    {
     "name": "stdout",
     "output_type": "stream",
     "text": [
      "5\n"
     ]
    }
   ],
   "source": [
    "z = np.random.randint(0,10,50)\n",
    "print(np.bincount(z).argmax())"
   ]
  },
  {
   "cell_type": "markdown",
   "id": "c871151a",
   "metadata": {},
   "source": [
    "快速查找"
   ]
  },
  {
   "cell_type": "code",
   "execution_count": 103,
   "id": "e11bb18a",
   "metadata": {},
   "outputs": [
    {
     "name": "stdout",
     "output_type": "stream",
     "text": [
      "[9998 9999 9997 9996 9995]\n"
     ]
    }
   ],
   "source": [
    "z = np.arange(10000)\n",
    "np.random.shuffle(z)\n",
    "n = 5\n",
    "print(z[np.argpartition(-z,n)[:n]])"
   ]
  },
  {
   "cell_type": "markdown",
   "id": "857d73bd",
   "metadata": {},
   "source": [
    "去掉一个数组中，所有元素都相同的数据"
   ]
  },
  {
   "cell_type": "code",
   "execution_count": 114,
   "id": "69101258",
   "metadata": {},
   "outputs": [
    {
     "name": "stdout",
     "output_type": "stream",
     "text": [
      "[False False False False False False False False  True False]\n"
     ]
    }
   ],
   "source": [
    "z = np.random.randint(0,5,(10,3))\n",
    "print(z)\n",
    "e = np.all(z[:,1:] == z[:,:-1], axis=1)\n",
    "print(e)"
   ]
  },
  {
   "cell_type": "code",
   "execution_count": 106,
   "id": "668607da",
   "metadata": {},
   "outputs": [
    {
     "name": "stdout",
     "output_type": "stream",
     "text": [
      "False\n",
      "True\n"
     ]
    }
   ],
   "source": [
    "a = np.array([1,2,3,4])\n",
    "b = np.array([1,2,3,5])\n",
    "print(np.all(a==b))\n",
    "print(np.any(a==b))"
   ]
  },
  {
   "cell_type": "code",
   "execution_count": null,
   "id": "e9704d36",
   "metadata": {},
   "outputs": [],
   "source": []
  }
 ],
 "metadata": {
  "kernelspec": {
   "display_name": "Python 3 (ipykernel)",
   "language": "python",
   "name": "python3"
  },
  "language_info": {
   "codemirror_mode": {
    "name": "ipython",
    "version": 3
   },
   "file_extension": ".py",
   "mimetype": "text/x-python",
   "name": "python",
   "nbconvert_exporter": "python",
   "pygments_lexer": "ipython3",
   "version": "3.9.12"
  }
 },
 "nbformat": 4,
 "nbformat_minor": 5
}
