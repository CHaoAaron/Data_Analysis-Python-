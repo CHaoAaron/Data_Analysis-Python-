{
 "cells": [
  {
   "cell_type": "markdown",
   "id": "9e026486",
   "metadata": {},
   "source": [
    "数组形状操作"
   ]
  },
  {
   "cell_type": "code",
   "execution_count": 1,
   "id": "15323ac8",
   "metadata": {},
   "outputs": [
    {
     "data": {
      "text/plain": [
       "array([0, 1, 2, 3, 4, 5, 6, 7, 8, 9])"
      ]
     },
     "execution_count": 1,
     "metadata": {},
     "output_type": "execute_result"
    }
   ],
   "source": [
    "import numpy as np\n",
    "hao_array = np.arange(10)\n",
    "hao_array"
   ]
  },
  {
   "cell_type": "code",
   "execution_count": 3,
   "id": "4ed811a8",
   "metadata": {},
   "outputs": [
    {
     "data": {
      "text/plain": [
       "(10,)"
      ]
     },
     "execution_count": 3,
     "metadata": {},
     "output_type": "execute_result"
    }
   ],
   "source": [
    "hao_array.shape"
   ]
  },
  {
   "cell_type": "code",
   "execution_count": 4,
   "id": "93c3bf06",
   "metadata": {},
   "outputs": [],
   "source": [
    "hao_array.shape = 2, 5"
   ]
  },
  {
   "cell_type": "code",
   "execution_count": 5,
   "id": "803f5a12",
   "metadata": {},
   "outputs": [
    {
     "data": {
      "text/plain": [
       "array([[0, 1, 2, 3, 4],\n",
       "       [5, 6, 7, 8, 9]])"
      ]
     },
     "execution_count": 5,
     "metadata": {},
     "output_type": "execute_result"
    }
   ],
   "source": [
    "hao_array"
   ]
  },
  {
   "cell_type": "code",
   "execution_count": 6,
   "id": "e5ad1490",
   "metadata": {},
   "outputs": [
    {
     "data": {
      "text/plain": [
       "array([[0, 1],\n",
       "       [2, 3],\n",
       "       [4, 5],\n",
       "       [6, 7],\n",
       "       [8, 9]])"
      ]
     },
     "execution_count": 6,
     "metadata": {},
     "output_type": "execute_result"
    }
   ],
   "source": [
    "hao_array.reshape(5,2)"
   ]
  },
  {
   "cell_type": "code",
   "execution_count": 14,
   "id": "5b9296c5",
   "metadata": {},
   "outputs": [
    {
     "data": {
      "text/plain": [
       "(10,)"
      ]
     },
     "execution_count": 14,
     "metadata": {},
     "output_type": "execute_result"
    }
   ],
   "source": [
    "hao_array = np.arange(10)\n",
    "hao_array.shape"
   ]
  },
  {
   "cell_type": "code",
   "execution_count": 15,
   "id": "a120492e",
   "metadata": {},
   "outputs": [
    {
     "data": {
      "text/plain": [
       "(1, 10)"
      ]
     },
     "execution_count": 15,
     "metadata": {},
     "output_type": "execute_result"
    }
   ],
   "source": [
    "hao_array = hao_array[np.newaxis, :]\n",
    "hao_array.shape"
   ]
  },
  {
   "cell_type": "code",
   "execution_count": 16,
   "id": "9cbbe83d",
   "metadata": {},
   "outputs": [
    {
     "data": {
      "text/plain": [
       "(1, 1, 10)"
      ]
     },
     "execution_count": 16,
     "metadata": {},
     "output_type": "execute_result"
    }
   ],
   "source": [
    "hao_array = hao_array[:, np.newaxis]\n",
    "hao_array.shape"
   ]
  },
  {
   "cell_type": "code",
   "execution_count": 17,
   "id": "fd5c585d",
   "metadata": {},
   "outputs": [
    {
     "data": {
      "text/plain": [
       "(10,)"
      ]
     },
     "execution_count": 17,
     "metadata": {},
     "output_type": "execute_result"
    }
   ],
   "source": [
    "hao_array = hao_array.squeeze()\n",
    "hao_array.shape"
   ]
  },
  {
   "cell_type": "code",
   "execution_count": 21,
   "id": "fe675aba",
   "metadata": {},
   "outputs": [
    {
     "data": {
      "text/plain": [
       "array([[0, 1, 2, 3, 4],\n",
       "       [5, 6, 7, 8, 9]])"
      ]
     },
     "execution_count": 21,
     "metadata": {},
     "output_type": "execute_result"
    }
   ],
   "source": [
    "hao_array.shape = 2, 5\n",
    "hao_array"
   ]
  },
  {
   "cell_type": "code",
   "execution_count": 23,
   "id": "caeae7f6",
   "metadata": {},
   "outputs": [
    {
     "data": {
      "text/plain": [
       "array([[0, 5],\n",
       "       [1, 6],\n",
       "       [2, 7],\n",
       "       [3, 8],\n",
       "       [4, 9]])"
      ]
     },
     "execution_count": 23,
     "metadata": {},
     "output_type": "execute_result"
    }
   ],
   "source": [
    "hao_array00 = hao_array.transpose()\n",
    "hao_array00"
   ]
  },
  {
   "cell_type": "code",
   "execution_count": 24,
   "id": "9e2b36da",
   "metadata": {},
   "outputs": [
    {
     "data": {
      "text/plain": [
       "array([[0, 5],\n",
       "       [1, 6],\n",
       "       [2, 7],\n",
       "       [3, 8],\n",
       "       [4, 9]])"
      ]
     },
     "execution_count": 24,
     "metadata": {},
     "output_type": "execute_result"
    }
   ],
   "source": [
    "hao_array01 = hao_array.T\n",
    "hao_array01"
   ]
  },
  {
   "cell_type": "markdown",
   "id": "d2e0be41",
   "metadata": {},
   "source": [
    "数组的连接"
   ]
  },
  {
   "cell_type": "code",
   "execution_count": 25,
   "id": "73217bde",
   "metadata": {},
   "outputs": [],
   "source": [
    "a = np.array([[123, 456, 789], [321, 654, 987]])\n",
    "b = np.array([[111, 222, 333], [444, 555, 666]])"
   ]
  },
  {
   "cell_type": "code",
   "execution_count": 26,
   "id": "7673cb26",
   "metadata": {},
   "outputs": [
    {
     "data": {
      "text/plain": [
       "array([[123, 456, 789],\n",
       "       [321, 654, 987],\n",
       "       [111, 222, 333],\n",
       "       [444, 555, 666]])"
      ]
     },
     "execution_count": 26,
     "metadata": {},
     "output_type": "execute_result"
    }
   ],
   "source": [
    "c = np.concatenate((a, b))\n",
    "c"
   ]
  },
  {
   "cell_type": "code",
   "execution_count": 27,
   "id": "3431cb45",
   "metadata": {},
   "outputs": [
    {
     "data": {
      "text/plain": [
       "array([[123, 456, 789, 111, 222, 333],\n",
       "       [321, 654, 987, 444, 555, 666]])"
      ]
     },
     "execution_count": 27,
     "metadata": {},
     "output_type": "execute_result"
    }
   ],
   "source": [
    "c1 = np.concatenate((a, b), axis=1)\n",
    "c1"
   ]
  },
  {
   "cell_type": "code",
   "execution_count": 29,
   "id": "38ca96a1",
   "metadata": {},
   "outputs": [
    {
     "data": {
      "text/plain": [
       "array([[123, 456, 789],\n",
       "       [321, 654, 987],\n",
       "       [111, 222, 333],\n",
       "       [444, 555, 666]])"
      ]
     },
     "execution_count": 29,
     "metadata": {},
     "output_type": "execute_result"
    }
   ],
   "source": [
    "np.vstack((a, b))"
   ]
  },
  {
   "cell_type": "code",
   "execution_count": 30,
   "id": "11b4a72c",
   "metadata": {},
   "outputs": [
    {
     "data": {
      "text/plain": [
       "array([[123, 456, 789, 111, 222, 333],\n",
       "       [321, 654, 987, 444, 555, 666]])"
      ]
     },
     "execution_count": 30,
     "metadata": {},
     "output_type": "execute_result"
    }
   ],
   "source": [
    "np.hstack((a, b))"
   ]
  },
  {
   "cell_type": "markdown",
   "id": "0eb26bb6",
   "metadata": {},
   "source": [
    "拉平"
   ]
  },
  {
   "cell_type": "code",
   "execution_count": 31,
   "id": "7298e41d",
   "metadata": {},
   "outputs": [
    {
     "data": {
      "text/plain": [
       "array([[123, 456, 789],\n",
       "       [321, 654, 987]])"
      ]
     },
     "execution_count": 31,
     "metadata": {},
     "output_type": "execute_result"
    }
   ],
   "source": [
    "a"
   ]
  },
  {
   "cell_type": "code",
   "execution_count": 32,
   "id": "2809bb57",
   "metadata": {},
   "outputs": [
    {
     "data": {
      "text/plain": [
       "array([123, 456, 789, 321, 654, 987])"
      ]
     },
     "execution_count": 32,
     "metadata": {},
     "output_type": "execute_result"
    }
   ],
   "source": [
    "a.flatten()"
   ]
  },
  {
   "cell_type": "code",
   "execution_count": 33,
   "id": "a9a053ea",
   "metadata": {},
   "outputs": [
    {
     "data": {
      "text/plain": [
       "array([[123, 456, 789, 321, 654, 987]])"
      ]
     },
     "execution_count": 33,
     "metadata": {},
     "output_type": "execute_result"
    }
   ],
   "source": [
    "a.reshape(1,6)"
   ]
  },
  {
   "cell_type": "code",
   "execution_count": 35,
   "id": "ed041629",
   "metadata": {},
   "outputs": [
    {
     "data": {
      "text/plain": [
       "array([123, 456, 789, 321, 654, 987])"
      ]
     },
     "execution_count": 35,
     "metadata": {},
     "output_type": "execute_result"
    }
   ],
   "source": [
    "a.ravel()"
   ]
  },
  {
   "cell_type": "code",
   "execution_count": null,
   "id": "415551d3",
   "metadata": {},
   "outputs": [],
   "source": []
  }
 ],
 "metadata": {
  "kernelspec": {
   "display_name": "Python 3 (ipykernel)",
   "language": "python",
   "name": "python3"
  },
  "language_info": {
   "codemirror_mode": {
    "name": "ipython",
    "version": 3
   },
   "file_extension": ".py",
   "mimetype": "text/x-python",
   "name": "python",
   "nbconvert_exporter": "python",
   "pygments_lexer": "ipython3",
   "version": "3.9.12"
  }
 },
 "nbformat": 4,
 "nbformat_minor": 5
}
