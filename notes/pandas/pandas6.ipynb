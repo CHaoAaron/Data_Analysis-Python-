{
 "cells": [
  {
   "cell_type": "code",
   "execution_count": 1,
   "id": "30f8f368",
   "metadata": {},
   "outputs": [],
   "source": [
    "import pandas as pd"
   ]
  },
  {
   "cell_type": "code",
   "execution_count": 5,
   "id": "cb6f8104",
   "metadata": {},
   "outputs": [
    {
     "data": {
      "text/plain": [
       "60"
      ]
     },
     "execution_count": 5,
     "metadata": {},
     "output_type": "execute_result"
    }
   ],
   "source": [
    "pd.get_option('display.max_rows')"
   ]
  },
  {
   "cell_type": "code",
   "execution_count": 21,
   "id": "2f3f4ad9",
   "metadata": {},
   "outputs": [],
   "source": [
    "pd.set_option('display.max_rows',100)"
   ]
  },
  {
   "cell_type": "code",
   "execution_count": 22,
   "id": "ffb738b9",
   "metadata": {},
   "outputs": [
    {
     "data": {
      "text/plain": [
       "0     NaN\n",
       "1     NaN\n",
       "2     NaN\n",
       "3     NaN\n",
       "4     NaN\n",
       "5     NaN\n",
       "6     NaN\n",
       "7     NaN\n",
       "8     NaN\n",
       "9     NaN\n",
       "10    NaN\n",
       "11    NaN\n",
       "12    NaN\n",
       "13    NaN\n",
       "14    NaN\n",
       "15    NaN\n",
       "16    NaN\n",
       "17    NaN\n",
       "18    NaN\n",
       "19    NaN\n",
       "20    NaN\n",
       "21    NaN\n",
       "22    NaN\n",
       "23    NaN\n",
       "24    NaN\n",
       "25    NaN\n",
       "26    NaN\n",
       "27    NaN\n",
       "28    NaN\n",
       "29    NaN\n",
       "30    NaN\n",
       "31    NaN\n",
       "32    NaN\n",
       "33    NaN\n",
       "34    NaN\n",
       "35    NaN\n",
       "36    NaN\n",
       "37    NaN\n",
       "38    NaN\n",
       "39    NaN\n",
       "40    NaN\n",
       "41    NaN\n",
       "42    NaN\n",
       "43    NaN\n",
       "44    NaN\n",
       "45    NaN\n",
       "46    NaN\n",
       "47    NaN\n",
       "48    NaN\n",
       "49    NaN\n",
       "50    NaN\n",
       "51    NaN\n",
       "52    NaN\n",
       "53    NaN\n",
       "54    NaN\n",
       "55    NaN\n",
       "56    NaN\n",
       "57    NaN\n",
       "58    NaN\n",
       "59    NaN\n",
       "60    NaN\n",
       "61    NaN\n",
       "62    NaN\n",
       "63    NaN\n",
       "64    NaN\n",
       "65    NaN\n",
       "66    NaN\n",
       "67    NaN\n",
       "68    NaN\n",
       "69    NaN\n",
       "70    NaN\n",
       "71    NaN\n",
       "72    NaN\n",
       "73    NaN\n",
       "74    NaN\n",
       "75    NaN\n",
       "76    NaN\n",
       "77    NaN\n",
       "78    NaN\n",
       "79    NaN\n",
       "80    NaN\n",
       "81    NaN\n",
       "82    NaN\n",
       "83    NaN\n",
       "84    NaN\n",
       "85    NaN\n",
       "86    NaN\n",
       "87    NaN\n",
       "88    NaN\n",
       "89    NaN\n",
       "90    NaN\n",
       "91    NaN\n",
       "92    NaN\n",
       "93    NaN\n",
       "94    NaN\n",
       "95    NaN\n",
       "96    NaN\n",
       "97    NaN\n",
       "98    NaN\n",
       "99    NaN\n",
       "dtype: object"
      ]
     },
     "execution_count": 22,
     "metadata": {},
     "output_type": "execute_result"
    }
   ],
   "source": [
    "pd.Series(index = range(0,100), dtype=object)"
   ]
  },
  {
   "cell_type": "code",
   "execution_count": 23,
   "id": "fe310916",
   "metadata": {},
   "outputs": [
    {
     "data": {
      "text/plain": [
       "20"
      ]
     },
     "execution_count": 23,
     "metadata": {},
     "output_type": "execute_result"
    }
   ],
   "source": [
    "pd.get_option('display.max_columns')"
   ]
  },
  {
   "cell_type": "code",
   "execution_count": 27,
   "id": "d92ba5c5",
   "metadata": {},
   "outputs": [],
   "source": [
    "co = pd.DataFrame(columns = range(0,30))"
   ]
  },
  {
   "cell_type": "code",
   "execution_count": 28,
   "id": "68eef173",
   "metadata": {},
   "outputs": [],
   "source": [
    "pd.set_option('display.max_columns',30)"
   ]
  },
  {
   "cell_type": "code",
   "execution_count": 29,
   "id": "39e85712",
   "metadata": {},
   "outputs": [
    {
     "data": {
      "text/html": [
       "<div>\n",
       "<style scoped>\n",
       "    .dataframe tbody tr th:only-of-type {\n",
       "        vertical-align: middle;\n",
       "    }\n",
       "\n",
       "    .dataframe tbody tr th {\n",
       "        vertical-align: top;\n",
       "    }\n",
       "\n",
       "    .dataframe thead th {\n",
       "        text-align: right;\n",
       "    }\n",
       "</style>\n",
       "<table border=\"1\" class=\"dataframe\">\n",
       "  <thead>\n",
       "    <tr style=\"text-align: right;\">\n",
       "      <th></th>\n",
       "      <th>0</th>\n",
       "      <th>1</th>\n",
       "      <th>2</th>\n",
       "      <th>3</th>\n",
       "      <th>4</th>\n",
       "      <th>5</th>\n",
       "      <th>6</th>\n",
       "      <th>7</th>\n",
       "      <th>8</th>\n",
       "      <th>9</th>\n",
       "      <th>10</th>\n",
       "      <th>11</th>\n",
       "      <th>12</th>\n",
       "      <th>13</th>\n",
       "      <th>14</th>\n",
       "      <th>15</th>\n",
       "      <th>16</th>\n",
       "      <th>17</th>\n",
       "      <th>18</th>\n",
       "      <th>19</th>\n",
       "      <th>20</th>\n",
       "      <th>21</th>\n",
       "      <th>22</th>\n",
       "      <th>23</th>\n",
       "      <th>24</th>\n",
       "      <th>25</th>\n",
       "      <th>26</th>\n",
       "      <th>27</th>\n",
       "      <th>28</th>\n",
       "      <th>29</th>\n",
       "    </tr>\n",
       "  </thead>\n",
       "  <tbody>\n",
       "  </tbody>\n",
       "</table>\n",
       "</div>"
      ],
      "text/plain": [
       "Empty DataFrame\n",
       "Columns: [0, 1, 2, 3, 4, 5, 6, 7, 8, 9, 10, 11, 12, 13, 14, 15, 16, 17, 18, 19, 20, 21, 22, 23, 24, 25, 26, 27, 28, 29]\n",
       "Index: []"
      ]
     },
     "execution_count": 29,
     "metadata": {},
     "output_type": "execute_result"
    }
   ],
   "source": [
    "co"
   ]
  },
  {
   "cell_type": "code",
   "execution_count": 30,
   "id": "299d2fa0",
   "metadata": {},
   "outputs": [
    {
     "data": {
      "text/plain": [
       "50"
      ]
     },
     "execution_count": 30,
     "metadata": {},
     "output_type": "execute_result"
    }
   ],
   "source": [
    "pd.get_option('display.max_colwidth')"
   ]
  },
  {
   "cell_type": "code",
   "execution_count": 39,
   "id": "a0a6aa71",
   "metadata": {},
   "outputs": [
    {
     "data": {
      "text/plain": [
       "A    ********************************************************...\n",
       "dtype: object"
      ]
     },
     "execution_count": 39,
     "metadata": {},
     "output_type": "execute_result"
    }
   ],
   "source": [
    "wuhu = pd.Series(index=['A'], data=['*'*60])\n",
    "wuhu"
   ]
  },
  {
   "cell_type": "code",
   "execution_count": 40,
   "id": "638ee21f",
   "metadata": {},
   "outputs": [],
   "source": [
    "pd.set_option('display.max_colwidth',100)"
   ]
  },
  {
   "cell_type": "code",
   "execution_count": 41,
   "id": "6cef6075",
   "metadata": {},
   "outputs": [
    {
     "data": {
      "text/plain": [
       "A    ************************************************************\n",
       "dtype: object"
      ]
     },
     "execution_count": 41,
     "metadata": {},
     "output_type": "execute_result"
    }
   ],
   "source": [
    "wuhu"
   ]
  },
  {
   "cell_type": "code",
   "execution_count": 42,
   "id": "3dc3ad36",
   "metadata": {},
   "outputs": [
    {
     "data": {
      "text/plain": [
       "6"
      ]
     },
     "execution_count": 42,
     "metadata": {},
     "output_type": "execute_result"
    }
   ],
   "source": [
    "pd.get_option('display.precision')"
   ]
  },
  {
   "cell_type": "code",
   "execution_count": 53,
   "id": "b0dd3999",
   "metadata": {},
   "outputs": [],
   "source": [
    "n = pd.Series(data=[1.23456789987654321])"
   ]
  },
  {
   "cell_type": "code",
   "execution_count": 56,
   "id": "5c7cdfd2",
   "metadata": {},
   "outputs": [],
   "source": [
    "pd.set_option('display.precision', 20)"
   ]
  },
  {
   "cell_type": "code",
   "execution_count": 57,
   "id": "36595dc7",
   "metadata": {},
   "outputs": [
    {
     "data": {
      "text/plain": [
       "0    1.23456789987654325103\n",
       "dtype: float64"
      ]
     },
     "execution_count": 57,
     "metadata": {},
     "output_type": "execute_result"
    }
   ],
   "source": [
    "n"
   ]
  },
  {
   "cell_type": "code",
   "execution_count": null,
   "id": "c00c2795",
   "metadata": {},
   "outputs": [],
   "source": []
  }
 ],
 "metadata": {
  "kernelspec": {
   "display_name": "Python 3 (ipykernel)",
   "language": "python",
   "name": "python3"
  },
  "language_info": {
   "codemirror_mode": {
    "name": "ipython",
    "version": 3
   },
   "file_extension": ".py",
   "mimetype": "text/x-python",
   "name": "python",
   "nbconvert_exporter": "python",
   "pygments_lexer": "ipython3",
   "version": "3.9.12"
  }
 },
 "nbformat": 4,
 "nbformat_minor": 5
}
